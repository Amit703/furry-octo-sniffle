{
 "cells": [
  {
   "cell_type": "markdown",
   "metadata": {},
   "source": [
    "# Importing the Libraries"
   ]
  },
  {
   "cell_type": "code",
   "execution_count": 1,
   "metadata": {},
   "outputs": [
    {
     "name": "stderr",
     "output_type": "stream",
     "text": [
      "C:\\Users\\COM\\Anaconda3\\lib\\site-packages\\statsmodels\\tools\\_testing.py:19: FutureWarning: pandas.util.testing is deprecated. Use the functions in the public API at pandas.testing instead.\n",
      "  import pandas.util.testing as tm\n"
     ]
    }
   ],
   "source": [
    "import pandas as pd\n",
    "from matplotlib import pyplot as plt\n",
    "%matplotlib inline\n",
    "import numpy as np\n",
    "import seaborn as sns\n",
    "import sweetviz as sv"
   ]
  },
  {
   "cell_type": "markdown",
   "metadata": {},
   "source": [
    "# Loading Dataset"
   ]
  },
  {
   "cell_type": "code",
   "execution_count": 2,
   "metadata": {},
   "outputs": [
    {
     "data": {
      "text/html": [
       "<div>\n",
       "<style scoped>\n",
       "    .dataframe tbody tr th:only-of-type {\n",
       "        vertical-align: middle;\n",
       "    }\n",
       "\n",
       "    .dataframe tbody tr th {\n",
       "        vertical-align: top;\n",
       "    }\n",
       "\n",
       "    .dataframe thead th {\n",
       "        text-align: right;\n",
       "    }\n",
       "</style>\n",
       "<table border=\"1\" class=\"dataframe\">\n",
       "  <thead>\n",
       "    <tr style=\"text-align: right;\">\n",
       "      <th></th>\n",
       "      <th>Item_no</th>\n",
       "      <th>Category_name</th>\n",
       "      <th>Item_description</th>\n",
       "      <th>Vendor</th>\n",
       "      <th>Vendor_name</th>\n",
       "      <th>Bottle_size</th>\n",
       "      <th>Pack</th>\n",
       "      <th>Inner_pack</th>\n",
       "      <th>Proof</th>\n",
       "      <th>List_date</th>\n",
       "      <th>Bottle_price</th>\n",
       "      <th>Shelf_price</th>\n",
       "      <th>Case_cost</th>\n",
       "    </tr>\n",
       "  </thead>\n",
       "  <tbody>\n",
       "    <tr>\n",
       "      <th>0</th>\n",
       "      <td>904616</td>\n",
       "      <td>MISC. AMERICAN CORDIALS &amp; LIQUEURS</td>\n",
       "      <td>Travis Hasse Apple Pie</td>\n",
       "      <td>305</td>\n",
       "      <td>Mhw Ltd</td>\n",
       "      <td>750</td>\n",
       "      <td>12</td>\n",
       "      <td>1</td>\n",
       "      <td>40</td>\n",
       "      <td>11-02-2009 00:00</td>\n",
       "      <td>$9.77</td>\n",
       "      <td>14.66</td>\n",
       "      <td>117.22</td>\n",
       "    </tr>\n",
       "    <tr>\n",
       "      <th>1</th>\n",
       "      <td>904617</td>\n",
       "      <td>MISC. IMPORTED CORDIALS &amp; LIQUEURS</td>\n",
       "      <td>D'aristi Xtabentun</td>\n",
       "      <td>391</td>\n",
       "      <td>Anchor Distilling (preiss Imports)</td>\n",
       "      <td>750</td>\n",
       "      <td>12</td>\n",
       "      <td>1</td>\n",
       "      <td>60</td>\n",
       "      <td>24-04-2009 00:00</td>\n",
       "      <td>$14.12</td>\n",
       "      <td>21.18</td>\n",
       "      <td>169.40</td>\n",
       "    </tr>\n",
       "    <tr>\n",
       "      <th>2</th>\n",
       "      <td>904618</td>\n",
       "      <td>PEACH BRANDIES</td>\n",
       "      <td>Hiram Walker Peach Brandy</td>\n",
       "      <td>370</td>\n",
       "      <td>Pernod Ricard Usa/austin Nichols</td>\n",
       "      <td>1000</td>\n",
       "      <td>12</td>\n",
       "      <td>1</td>\n",
       "      <td>60</td>\n",
       "      <td>16-12-2009 00:00</td>\n",
       "      <td>$6.50</td>\n",
       "      <td>9.74</td>\n",
       "      <td>77.94</td>\n",
       "    </tr>\n",
       "    <tr>\n",
       "      <th>3</th>\n",
       "      <td>904619</td>\n",
       "      <td>SCOTCH WHISKIES</td>\n",
       "      <td>Oak Cross Whisky</td>\n",
       "      <td>305</td>\n",
       "      <td>Mhw Ltd</td>\n",
       "      <td>750</td>\n",
       "      <td>6</td>\n",
       "      <td>1</td>\n",
       "      <td>86</td>\n",
       "      <td>24-12-2009 00:00</td>\n",
       "      <td>$25.33</td>\n",
       "      <td>38.00</td>\n",
       "      <td>152.00</td>\n",
       "    </tr>\n",
       "    <tr>\n",
       "      <th>4</th>\n",
       "      <td>904620</td>\n",
       "      <td>FLAVORED VODKA</td>\n",
       "      <td>Uv Red(cherry) Vodka</td>\n",
       "      <td>380</td>\n",
       "      <td>Phillips Beverage Company</td>\n",
       "      <td>200</td>\n",
       "      <td>24</td>\n",
       "      <td>1</td>\n",
       "      <td>60</td>\n",
       "      <td>05-11-2009 00:00</td>\n",
       "      <td>$1.97</td>\n",
       "      <td>2.96</td>\n",
       "      <td>47.30</td>\n",
       "    </tr>\n",
       "  </tbody>\n",
       "</table>\n",
       "</div>"
      ],
      "text/plain": [
       "   Item_no                       Category_name           Item_description  \\\n",
       "0   904616  MISC. AMERICAN CORDIALS & LIQUEURS     Travis Hasse Apple Pie   \n",
       "1   904617  MISC. IMPORTED CORDIALS & LIQUEURS         D'aristi Xtabentun   \n",
       "2   904618                      PEACH BRANDIES  Hiram Walker Peach Brandy   \n",
       "3   904619                     SCOTCH WHISKIES           Oak Cross Whisky   \n",
       "4   904620                      FLAVORED VODKA       Uv Red(cherry) Vodka   \n",
       "\n",
       "   Vendor                         Vendor_name  Bottle_size  Pack  Inner_pack  \\\n",
       "0     305                             Mhw Ltd          750    12           1   \n",
       "1     391  Anchor Distilling (preiss Imports)          750    12           1   \n",
       "2     370    Pernod Ricard Usa/austin Nichols         1000    12           1   \n",
       "3     305                             Mhw Ltd          750     6           1   \n",
       "4     380           Phillips Beverage Company          200    24           1   \n",
       "\n",
       "   Proof         List_date Bottle_price  Shelf_price  Case_cost  \n",
       "0     40  11-02-2009 00:00        $9.77        14.66     117.22  \n",
       "1     60  24-04-2009 00:00       $14.12        21.18     169.40  \n",
       "2     60  16-12-2009 00:00        $6.50         9.74      77.94  \n",
       "3     86  24-12-2009 00:00       $25.33        38.00     152.00  \n",
       "4     60  05-11-2009 00:00        $1.97         2.96      47.30  "
      ]
     },
     "execution_count": 2,
     "metadata": {},
     "output_type": "execute_result"
    }
   ],
   "source": [
    "data = pd.read_csv('F:/Assignment/products.csv', header = 0)\n",
    "data.head()"
   ]
  },
  {
   "cell_type": "code",
   "execution_count": 3,
   "metadata": {},
   "outputs": [
    {
     "data": {
      "text/plain": [
       "(9977, 13)"
      ]
     },
     "execution_count": 3,
     "metadata": {},
     "output_type": "execute_result"
    }
   ],
   "source": [
    "data.shape"
   ]
  },
  {
   "cell_type": "code",
   "execution_count": 4,
   "metadata": {},
   "outputs": [
    {
     "name": "stdout",
     "output_type": "stream",
     "text": [
      "<class 'pandas.core.frame.DataFrame'>\n",
      "RangeIndex: 9977 entries, 0 to 9976\n",
      "Data columns (total 13 columns):\n",
      " #   Column            Non-Null Count  Dtype  \n",
      "---  ------            --------------  -----  \n",
      " 0   Item_no           9977 non-null   int64  \n",
      " 1   Category_name     9860 non-null   object \n",
      " 2   Item_description  9977 non-null   object \n",
      " 3   Vendor            9977 non-null   int64  \n",
      " 4   Vendor_name       9977 non-null   object \n",
      " 5   Bottle_size       9977 non-null   int64  \n",
      " 6   Pack              9977 non-null   int64  \n",
      " 7   Inner_pack        9977 non-null   int64  \n",
      " 8   Proof             9977 non-null   int64  \n",
      " 9   List_date         9977 non-null   object \n",
      " 10  Bottle_price      9969 non-null   object \n",
      " 11  Shelf_price       9969 non-null   float64\n",
      " 12  Case_cost         9969 non-null   float64\n",
      "dtypes: float64(2), int64(6), object(5)\n",
      "memory usage: 1013.4+ KB\n"
     ]
    }
   ],
   "source": [
    "data.info()"
   ]
  },
  {
   "cell_type": "code",
   "execution_count": 5,
   "metadata": {},
   "outputs": [
    {
     "data": {
      "text/plain": [
       "Item_no               0\n",
       "Category_name       117\n",
       "Item_description      0\n",
       "Vendor                0\n",
       "Vendor_name           0\n",
       "Bottle_size           0\n",
       "Pack                  0\n",
       "Inner_pack            0\n",
       "Proof                 0\n",
       "List_date             0\n",
       "Bottle_price          8\n",
       "Shelf_price           8\n",
       "Case_cost             8\n",
       "dtype: int64"
      ]
     },
     "execution_count": 5,
     "metadata": {},
     "output_type": "execute_result"
    }
   ],
   "source": [
    "data.isnull().sum()"
   ]
  },
  {
   "cell_type": "code",
   "execution_count": 30,
   "metadata": {},
   "outputs": [
    {
     "data": {
      "text/plain": [
       "<AxesSubplot:>"
      ]
     },
     "execution_count": 30,
     "metadata": {},
     "output_type": "execute_result"
    },
    {
     "data": {
      "image/png": "[encoded data removed]",
      "text/plain": [
       "<Figure size 432x288 with 1 Axes>"
      ]
     },
     "metadata": {
      "needs_background": "light"
     },
     "output_type": "display_data"
    }
   ],
   "source": [
    "sns.heatmap(data.isnull(),yticklabels=False,cbar=False,cmap='viridis')"
   ]
  },
  {
   "cell_type": "markdown",
   "metadata": {},
   "source": [
    "There are less than one percent missing values, so that does not affet quality of data"
   ]
  },
  {
   "cell_type": "code",
   "execution_count": 4,
   "metadata": {},
   "outputs": [
    {
     "data": {
      "text/html": [
       "<div>\n",
       "<style scoped>\n",
       "    .dataframe tbody tr th:only-of-type {\n",
       "        vertical-align: middle;\n",
       "    }\n",
       "\n",
       "    .dataframe tbody tr th {\n",
       "        vertical-align: top;\n",
       "    }\n",
       "\n",
       "    .dataframe thead th {\n",
       "        text-align: right;\n",
       "    }\n",
       "</style>\n",
       "<table border=\"1\" class=\"dataframe\">\n",
       "  <thead>\n",
       "    <tr style=\"text-align: right;\">\n",
       "      <th></th>\n",
       "      <th>Item_no</th>\n",
       "      <th>Vendor</th>\n",
       "      <th>Bottle_size</th>\n",
       "      <th>Pack</th>\n",
       "      <th>Inner_pack</th>\n",
       "      <th>Proof</th>\n",
       "      <th>Shelf_price</th>\n",
       "      <th>Case_cost</th>\n",
       "    </tr>\n",
       "  </thead>\n",
       "  <tbody>\n",
       "    <tr>\n",
       "      <th>Item_no</th>\n",
       "      <td>1.000000</td>\n",
       "      <td>0.191421</td>\n",
       "      <td>0.046325</td>\n",
       "      <td>0.138613</td>\n",
       "      <td>-0.063710</td>\n",
       "      <td>-0.078318</td>\n",
       "      <td>0.051970</td>\n",
       "      <td>0.058351</td>\n",
       "    </tr>\n",
       "    <tr>\n",
       "      <th>Vendor</th>\n",
       "      <td>0.191421</td>\n",
       "      <td>1.000000</td>\n",
       "      <td>-0.026019</td>\n",
       "      <td>-0.099652</td>\n",
       "      <td>-0.033333</td>\n",
       "      <td>0.045645</td>\n",
       "      <td>0.026584</td>\n",
       "      <td>-0.014191</td>\n",
       "    </tr>\n",
       "    <tr>\n",
       "      <th>Bottle_size</th>\n",
       "      <td>0.046325</td>\n",
       "      <td>-0.026019</td>\n",
       "      <td>1.000000</td>\n",
       "      <td>-0.111897</td>\n",
       "      <td>0.115025</td>\n",
       "      <td>-0.098815</td>\n",
       "      <td>0.205717</td>\n",
       "      <td>0.071184</td>\n",
       "    </tr>\n",
       "    <tr>\n",
       "      <th>Pack</th>\n",
       "      <td>0.138613</td>\n",
       "      <td>-0.099652</td>\n",
       "      <td>-0.111897</td>\n",
       "      <td>1.000000</td>\n",
       "      <td>-0.035797</td>\n",
       "      <td>-0.067749</td>\n",
       "      <td>-0.083299</td>\n",
       "      <td>0.003945</td>\n",
       "    </tr>\n",
       "    <tr>\n",
       "      <th>Inner_pack</th>\n",
       "      <td>-0.063710</td>\n",
       "      <td>-0.033333</td>\n",
       "      <td>0.115025</td>\n",
       "      <td>-0.035797</td>\n",
       "      <td>1.000000</td>\n",
       "      <td>0.017147</td>\n",
       "      <td>0.422535</td>\n",
       "      <td>0.195830</td>\n",
       "    </tr>\n",
       "    <tr>\n",
       "      <th>Proof</th>\n",
       "      <td>-0.078318</td>\n",
       "      <td>0.045645</td>\n",
       "      <td>-0.098815</td>\n",
       "      <td>-0.067749</td>\n",
       "      <td>0.017147</td>\n",
       "      <td>1.000000</td>\n",
       "      <td>0.080779</td>\n",
       "      <td>0.179636</td>\n",
       "    </tr>\n",
       "    <tr>\n",
       "      <th>Shelf_price</th>\n",
       "      <td>0.051970</td>\n",
       "      <td>0.026584</td>\n",
       "      <td>0.205717</td>\n",
       "      <td>-0.083299</td>\n",
       "      <td>0.422535</td>\n",
       "      <td>0.080779</td>\n",
       "      <td>1.000000</td>\n",
       "      <td>0.685075</td>\n",
       "    </tr>\n",
       "    <tr>\n",
       "      <th>Case_cost</th>\n",
       "      <td>0.058351</td>\n",
       "      <td>-0.014191</td>\n",
       "      <td>0.071184</td>\n",
       "      <td>0.003945</td>\n",
       "      <td>0.195830</td>\n",
       "      <td>0.179636</td>\n",
       "      <td>0.685075</td>\n",
       "      <td>1.000000</td>\n",
       "    </tr>\n",
       "  </tbody>\n",
       "</table>\n",
       "</div>"
      ],
      "text/plain": [
       "              Item_no    Vendor  Bottle_size      Pack  Inner_pack     Proof  \\\n",
       "Item_no      1.000000  0.191421     0.046325  0.138613   -0.063710 -0.078318   \n",
       "Vendor       0.191421  1.000000    -0.026019 -0.099652   -0.033333  0.045645   \n",
       "Bottle_size  0.046325 -0.026019     1.000000 -0.111897    0.115025 -0.098815   \n",
       "Pack         0.138613 -0.099652    -0.111897  1.000000   -0.035797 -0.067749   \n",
       "Inner_pack  -0.063710 -0.033333     0.115025 -0.035797    1.000000  0.017147   \n",
       "Proof       -0.078318  0.045645    -0.098815 -0.067749    0.017147  1.000000   \n",
       "Shelf_price  0.051970  0.026584     0.205717 -0.083299    0.422535  0.080779   \n",
       "Case_cost    0.058351 -0.014191     0.071184  0.003945    0.195830  0.179636   \n",
       "\n",
       "             Shelf_price  Case_cost  \n",
       "Item_no         0.051970   0.058351  \n",
       "Vendor          0.026584  -0.014191  \n",
       "Bottle_size     0.205717   0.071184  \n",
       "Pack           -0.083299   0.003945  \n",
       "Inner_pack      0.422535   0.195830  \n",
       "Proof           0.080779   0.179636  \n",
       "Shelf_price     1.000000   0.685075  \n",
       "Case_cost       0.685075   1.000000  "
      ]
     },
     "execution_count": 4,
     "metadata": {},
     "output_type": "execute_result"
    }
   ],
   "source": [
    "data.corr()"
   ]
  },
  {
   "cell_type": "code",
   "execution_count": null,
   "metadata": {},
   "outputs": [],
   "source": []
  },
  {
   "cell_type": "markdown",
   "metadata": {},
   "source": [
    "As you see the missing values are less than one percent, so it does not affect quality of data."
   ]
  },
  {
   "cell_type": "code",
   "execution_count": 32,
   "metadata": {},
   "outputs": [
    {
     "name": "stderr",
     "output_type": "stream",
     "text": [
      ":FEATURES DONE:                    |█████████████████████| [100%]   00:11  -> (00:00 left)\n",
      ":PAIRWISE DONE:                    |█████████████████████| [100%]   00:00  -> (00:00 left)\n"
     ]
    },
    {
     "name": "stdout",
     "output_type": "stream",
     "text": [
      "Creating Associations graph... DONE!\n"
     ]
    }
   ],
   "source": [
    "my_report = sv.analyze(data)"
   ]
  },
  {
   "cell_type": "code",
   "execution_count": 33,
   "metadata": {},
   "outputs": [
    {
     "name": "stdout",
     "output_type": "stream",
     "text": [
      "Report SWEETVIZ_REPORT.html was generated! NOTEBOOK/COLAB USERS: no browser will pop up, the report is saved in your notebook/colab files.\n"
     ]
    }
   ],
   "source": [
    "my_report.show_html()"
   ]
  },
  {
   "cell_type": "markdown",
   "metadata": {},
   "source": [
    "# Counties Dataset"
   ]
  },
  {
   "cell_type": "code",
   "execution_count": 7,
   "metadata": {},
   "outputs": [
    {
     "data": {
      "text/html": [
       "<div>\n",
       "<style scoped>\n",
       "    .dataframe tbody tr th:only-of-type {\n",
       "        vertical-align: middle;\n",
       "    }\n",
       "\n",
       "    .dataframe tbody tr th {\n",
       "        vertical-align: top;\n",
       "    }\n",
       "\n",
       "    .dataframe thead th {\n",
       "        text-align: right;\n",
       "    }\n",
       "</style>\n",
       "<table border=\"1\" class=\"dataframe\">\n",
       "  <thead>\n",
       "    <tr style=\"text-align: right;\">\n",
       "      <th></th>\n",
       "      <th>County</th>\n",
       "      <th>Population</th>\n",
       "    </tr>\n",
       "  </thead>\n",
       "  <tbody>\n",
       "    <tr>\n",
       "      <th>0</th>\n",
       "      <td>Adair</td>\n",
       "      <td>7682</td>\n",
       "    </tr>\n",
       "    <tr>\n",
       "      <th>1</th>\n",
       "      <td>Adams</td>\n",
       "      <td>4029</td>\n",
       "    </tr>\n",
       "    <tr>\n",
       "      <th>2</th>\n",
       "      <td>Allamakee</td>\n",
       "      <td>14330</td>\n",
       "    </tr>\n",
       "    <tr>\n",
       "      <th>3</th>\n",
       "      <td>Appanoose</td>\n",
       "      <td>12884</td>\n",
       "    </tr>\n",
       "    <tr>\n",
       "      <th>4</th>\n",
       "      <td>Audubon</td>\n",
       "      <td>6119</td>\n",
       "    </tr>\n",
       "  </tbody>\n",
       "</table>\n",
       "</div>"
      ],
      "text/plain": [
       "      County  Population\n",
       "0      Adair        7682\n",
       "1      Adams        4029\n",
       "2  Allamakee       14330\n",
       "3  Appanoose       12884\n",
       "4    Audubon        6119"
      ]
     },
     "execution_count": 7,
     "metadata": {},
     "output_type": "execute_result"
    }
   ],
   "source": [
    "data1 = pd.read_csv('F:/Assignment/counties.csv', header = 0)\n",
    "data1.head()"
   ]
  },
  {
   "cell_type": "code",
   "execution_count": 9,
   "metadata": {},
   "outputs": [
    {
     "data": {
      "text/html": [
       "<div>\n",
       "<style scoped>\n",
       "    .dataframe tbody tr th:only-of-type {\n",
       "        vertical-align: middle;\n",
       "    }\n",
       "\n",
       "    .dataframe tbody tr th {\n",
       "        vertical-align: top;\n",
       "    }\n",
       "\n",
       "    .dataframe thead th {\n",
       "        text-align: right;\n",
       "    }\n",
       "</style>\n",
       "<table border=\"1\" class=\"dataframe\">\n",
       "  <thead>\n",
       "    <tr style=\"text-align: right;\">\n",
       "      <th></th>\n",
       "      <th>Population</th>\n",
       "    </tr>\n",
       "  </thead>\n",
       "  <tbody>\n",
       "    <tr>\n",
       "      <th>count</th>\n",
       "      <td>99.000000</td>\n",
       "    </tr>\n",
       "    <tr>\n",
       "      <th>mean</th>\n",
       "      <td>30771.232323</td>\n",
       "    </tr>\n",
       "    <tr>\n",
       "      <th>std</th>\n",
       "      <td>52888.737875</td>\n",
       "    </tr>\n",
       "    <tr>\n",
       "      <th>min</th>\n",
       "      <td>4029.000000</td>\n",
       "    </tr>\n",
       "    <tr>\n",
       "      <th>25%</th>\n",
       "      <td>10430.500000</td>\n",
       "    </tr>\n",
       "    <tr>\n",
       "      <th>50%</th>\n",
       "      <td>15679.000000</td>\n",
       "    </tr>\n",
       "    <tr>\n",
       "      <th>75%</th>\n",
       "      <td>24631.000000</td>\n",
       "    </tr>\n",
       "    <tr>\n",
       "      <th>max</th>\n",
       "      <td>430640.000000</td>\n",
       "    </tr>\n",
       "  </tbody>\n",
       "</table>\n",
       "</div>"
      ],
      "text/plain": [
       "          Population\n",
       "count      99.000000\n",
       "mean    30771.232323\n",
       "std     52888.737875\n",
       "min      4029.000000\n",
       "25%     10430.500000\n",
       "50%     15679.000000\n",
       "75%     24631.000000\n",
       "max    430640.000000"
      ]
     },
     "execution_count": 9,
     "metadata": {},
     "output_type": "execute_result"
    }
   ],
   "source": [
    "data1.describe()"
   ]
  },
  {
   "cell_type": "code",
   "execution_count": 29,
   "metadata": {},
   "outputs": [
    {
     "data": {
      "text/plain": [
       "County        0\n",
       "Population    0\n",
       "dtype: int64"
      ]
     },
     "execution_count": 29,
     "metadata": {},
     "output_type": "execute_result"
    }
   ],
   "source": [
    "data1.isnull().sum()"
   ]
  },
  {
   "cell_type": "markdown",
   "metadata": {},
   "source": [
    "There are no null values"
   ]
  },
  {
   "cell_type": "code",
   "execution_count": 36,
   "metadata": {},
   "outputs": [
    {
     "name": "stderr",
     "output_type": "stream",
     "text": [
      ":FEATURES DONE:                    |█████████████████████| [100%]   00:00  -> (00:00 left)\n",
      ":PAIRWISE DONE:                    |█████████████████████| [100%]   00:00  -> (00:00 left)\n"
     ]
    },
    {
     "name": "stdout",
     "output_type": "stream",
     "text": [
      "Creating Associations graph... DONE!\n"
     ]
    }
   ],
   "source": [
    "my_report = sv.analyze(data1)"
   ]
  },
  {
   "cell_type": "code",
   "execution_count": 37,
   "metadata": {},
   "outputs": [
    {
     "name": "stdout",
     "output_type": "stream",
     "text": [
      "Report SWEETVIZ_REPORT.html was generated! NOTEBOOK/COLAB USERS: no browser will pop up, the report is saved in your notebook/colab files.\n"
     ]
    }
   ],
   "source": [
    "my_report.show_html()"
   ]
  },
  {
   "cell_type": "markdown",
   "metadata": {},
   "source": [
    "# Stores Dataset"
   ]
  },
  {
   "cell_type": "code",
   "execution_count": 10,
   "metadata": {},
   "outputs": [
    {
     "data": {
      "text/html": [
       "<div>\n",
       "<style scoped>\n",
       "    .dataframe tbody tr th:only-of-type {\n",
       "        vertical-align: middle;\n",
       "    }\n",
       "\n",
       "    .dataframe tbody tr th {\n",
       "        vertical-align: top;\n",
       "    }\n",
       "\n",
       "    .dataframe thead th {\n",
       "        text-align: right;\n",
       "    }\n",
       "</style>\n",
       "<table border=\"1\" class=\"dataframe\">\n",
       "  <thead>\n",
       "    <tr style=\"text-align: right;\">\n",
       "      <th></th>\n",
       "      <th>Store</th>\n",
       "      <th>Name</th>\n",
       "      <th>Store_status</th>\n",
       "      <th>Store_address</th>\n",
       "      <th>Unnamed: 4</th>\n",
       "    </tr>\n",
       "  </thead>\n",
       "  <tbody>\n",
       "    <tr>\n",
       "      <th>0</th>\n",
       "      <td>2106</td>\n",
       "      <td>Hillstreet News and Tobacco</td>\n",
       "      <td>A</td>\n",
       "      <td>2217 College\\nCedar Falls, IA 506130000\\n(42.5...</td>\n",
       "      <td>NaN</td>\n",
       "    </tr>\n",
       "    <tr>\n",
       "      <th>1</th>\n",
       "      <td>2112</td>\n",
       "      <td>Mike's Liquors</td>\n",
       "      <td>I</td>\n",
       "      <td>407 Sharp St.\\nGlenwood, IA 515340000\\n(41.046...</td>\n",
       "      <td>NaN</td>\n",
       "    </tr>\n",
       "    <tr>\n",
       "      <th>2</th>\n",
       "      <td>2113</td>\n",
       "      <td>Jamboree Foods</td>\n",
       "      <td>A</td>\n",
       "      <td>1119 Market St. Box 71\\nGowrie, IA 505430000\\n...</td>\n",
       "      <td>NaN</td>\n",
       "    </tr>\n",
       "    <tr>\n",
       "      <th>3</th>\n",
       "      <td>2119</td>\n",
       "      <td>Manly Liquor Store</td>\n",
       "      <td>I</td>\n",
       "      <td>133 East Main\\nManly, IA 504560000\\n(43.286863...</td>\n",
       "      <td>NaN</td>\n",
       "    </tr>\n",
       "    <tr>\n",
       "      <th>4</th>\n",
       "      <td>2130</td>\n",
       "      <td>Sycamore Convenience</td>\n",
       "      <td>A</td>\n",
       "      <td>617 Sycamore\\nWaterloo, IA 507030000\\n(42.4978...</td>\n",
       "      <td>NaN</td>\n",
       "    </tr>\n",
       "  </tbody>\n",
       "</table>\n",
       "</div>"
      ],
      "text/plain": [
       "   Store                         Name Store_status  \\\n",
       "0   2106  Hillstreet News and Tobacco            A   \n",
       "1   2112               Mike's Liquors            I   \n",
       "2   2113               Jamboree Foods            A   \n",
       "3   2119           Manly Liquor Store            I   \n",
       "4   2130         Sycamore Convenience            A   \n",
       "\n",
       "                                       Store_address Unnamed: 4  \n",
       "0  2217 College\\nCedar Falls, IA 506130000\\n(42.5...        NaN  \n",
       "1  407 Sharp St.\\nGlenwood, IA 515340000\\n(41.046...        NaN  \n",
       "2  1119 Market St. Box 71\\nGowrie, IA 505430000\\n...        NaN  \n",
       "3  133 East Main\\nManly, IA 504560000\\n(43.286863...        NaN  \n",
       "4  617 Sycamore\\nWaterloo, IA 507030000\\n(42.4978...        NaN  "
      ]
     },
     "execution_count": 10,
     "metadata": {},
     "output_type": "execute_result"
    }
   ],
   "source": [
    "data2 = pd.read_csv('F:/Assignment/stores.csv', header = 0)\n",
    "data2.head()"
   ]
  },
  {
   "cell_type": "code",
   "execution_count": 11,
   "metadata": {},
   "outputs": [
    {
     "data": {
      "text/plain": [
       "(9977, 13)"
      ]
     },
     "execution_count": 11,
     "metadata": {},
     "output_type": "execute_result"
    }
   ],
   "source": [
    "data.shape"
   ]
  },
  {
   "cell_type": "code",
   "execution_count": 12,
   "metadata": {},
   "outputs": [],
   "source": [
    "to_drop = ['Unnamed: 4']"
   ]
  },
  {
   "cell_type": "code",
   "execution_count": 13,
   "metadata": {},
   "outputs": [],
   "source": [
    "data2.drop(to_drop, inplace=True, axis=1)"
   ]
  },
  {
   "cell_type": "code",
   "execution_count": 14,
   "metadata": {},
   "outputs": [
    {
     "data": {
      "text/html": [
       "<div>\n",
       "<style scoped>\n",
       "    .dataframe tbody tr th:only-of-type {\n",
       "        vertical-align: middle;\n",
       "    }\n",
       "\n",
       "    .dataframe tbody tr th {\n",
       "        vertical-align: top;\n",
       "    }\n",
       "\n",
       "    .dataframe thead th {\n",
       "        text-align: right;\n",
       "    }\n",
       "</style>\n",
       "<table border=\"1\" class=\"dataframe\">\n",
       "  <thead>\n",
       "    <tr style=\"text-align: right;\">\n",
       "      <th></th>\n",
       "      <th>Store</th>\n",
       "      <th>Name</th>\n",
       "      <th>Store_status</th>\n",
       "      <th>Store_address</th>\n",
       "    </tr>\n",
       "  </thead>\n",
       "  <tbody>\n",
       "    <tr>\n",
       "      <th>0</th>\n",
       "      <td>2106</td>\n",
       "      <td>Hillstreet News and Tobacco</td>\n",
       "      <td>A</td>\n",
       "      <td>2217 College\\nCedar Falls, IA 506130000\\n(42.5...</td>\n",
       "    </tr>\n",
       "    <tr>\n",
       "      <th>1</th>\n",
       "      <td>2112</td>\n",
       "      <td>Mike's Liquors</td>\n",
       "      <td>I</td>\n",
       "      <td>407 Sharp St.\\nGlenwood, IA 515340000\\n(41.046...</td>\n",
       "    </tr>\n",
       "    <tr>\n",
       "      <th>2</th>\n",
       "      <td>2113</td>\n",
       "      <td>Jamboree Foods</td>\n",
       "      <td>A</td>\n",
       "      <td>1119 Market St. Box 71\\nGowrie, IA 505430000\\n...</td>\n",
       "    </tr>\n",
       "    <tr>\n",
       "      <th>3</th>\n",
       "      <td>2119</td>\n",
       "      <td>Manly Liquor Store</td>\n",
       "      <td>I</td>\n",
       "      <td>133 East Main\\nManly, IA 504560000\\n(43.286863...</td>\n",
       "    </tr>\n",
       "    <tr>\n",
       "      <th>4</th>\n",
       "      <td>2130</td>\n",
       "      <td>Sycamore Convenience</td>\n",
       "      <td>A</td>\n",
       "      <td>617 Sycamore\\nWaterloo, IA 507030000\\n(42.4978...</td>\n",
       "    </tr>\n",
       "  </tbody>\n",
       "</table>\n",
       "</div>"
      ],
      "text/plain": [
       "   Store                         Name Store_status  \\\n",
       "0   2106  Hillstreet News and Tobacco            A   \n",
       "1   2112               Mike's Liquors            I   \n",
       "2   2113               Jamboree Foods            A   \n",
       "3   2119           Manly Liquor Store            I   \n",
       "4   2130         Sycamore Convenience            A   \n",
       "\n",
       "                                       Store_address  \n",
       "0  2217 College\\nCedar Falls, IA 506130000\\n(42.5...  \n",
       "1  407 Sharp St.\\nGlenwood, IA 515340000\\n(41.046...  \n",
       "2  1119 Market St. Box 71\\nGowrie, IA 505430000\\n...  \n",
       "3  133 East Main\\nManly, IA 504560000\\n(43.286863...  \n",
       "4  617 Sycamore\\nWaterloo, IA 507030000\\n(42.4978...  "
      ]
     },
     "execution_count": 14,
     "metadata": {},
     "output_type": "execute_result"
    }
   ],
   "source": [
    "data2.head()"
   ]
  },
  {
   "cell_type": "code",
   "execution_count": 15,
   "metadata": {},
   "outputs": [
    {
     "data": {
      "text/plain": [
       "Store            0\n",
       "Name             0\n",
       "Store_status     0\n",
       "Store_address    0\n",
       "dtype: int64"
      ]
     },
     "execution_count": 15,
     "metadata": {},
     "output_type": "execute_result"
    }
   ],
   "source": [
    "data2.isnull().sum()"
   ]
  },
  {
   "cell_type": "code",
   "execution_count": 16,
   "metadata": {},
   "outputs": [
    {
     "name": "stdout",
     "output_type": "stream",
     "text": [
      "<class 'pandas.core.frame.DataFrame'>\n",
      "RangeIndex: 1973 entries, 0 to 1972\n",
      "Data columns (total 4 columns):\n",
      " #   Column         Non-Null Count  Dtype \n",
      "---  ------         --------------  ----- \n",
      " 0   Store          1973 non-null   int64 \n",
      " 1   Name           1973 non-null   object\n",
      " 2   Store_status   1973 non-null   object\n",
      " 3   Store_address  1973 non-null   object\n",
      "dtypes: int64(1), object(3)\n",
      "memory usage: 61.8+ KB\n"
     ]
    }
   ],
   "source": [
    "data2.info()"
   ]
  },
  {
   "cell_type": "code",
   "execution_count": 34,
   "metadata": {},
   "outputs": [
    {
     "name": "stderr",
     "output_type": "stream",
     "text": [
      ":FEATURES DONE:                    |█████████████████████| [100%]   00:00  -> (00:00 left)\n",
      ":PAIRWISE DONE:                    |█████████████████████| [100%]   00:00  -> (00:00 left)\n"
     ]
    },
    {
     "name": "stdout",
     "output_type": "stream",
     "text": [
      "Creating Associations graph... DONE!\n"
     ]
    }
   ],
   "source": [
    "my_report = sv.analyze(data2)"
   ]
  },
  {
   "cell_type": "code",
   "execution_count": 35,
   "metadata": {},
   "outputs": [
    {
     "name": "stdout",
     "output_type": "stream",
     "text": [
      "Report SWEETVIZ_REPORT.html was generated! NOTEBOOK/COLAB USERS: no browser will pop up, the report is saved in your notebook/colab files.\n"
     ]
    }
   ],
   "source": [
    "my_report.show_html()"
   ]
  },
  {
   "cell_type": "markdown",
   "metadata": {},
   "source": [
    "# Sales Dataset"
   ]
  },
  {
   "cell_type": "code",
   "execution_count": 17,
   "metadata": {},
   "outputs": [
    {
     "name": "stderr",
     "output_type": "stream",
     "text": [
      "C:\\Users\\COM\\Anaconda3\\lib\\site-packages\\IPython\\core\\interactiveshell.py:3058: DtypeWarning: Columns (1) have mixed types.Specify dtype option on import or set low_memory=False.\n",
      "  interactivity=interactivity, compiler=compiler, result=result)\n"
     ]
    },
    {
     "data": {
      "text/html": [
       "<div>\n",
       "<style scoped>\n",
       "    .dataframe tbody tr th:only-of-type {\n",
       "        vertical-align: middle;\n",
       "    }\n",
       "\n",
       "    .dataframe tbody tr th {\n",
       "        vertical-align: top;\n",
       "    }\n",
       "\n",
       "    .dataframe thead th {\n",
       "        text-align: right;\n",
       "    }\n",
       "</style>\n",
       "<table border=\"1\" class=\"dataframe\">\n",
       "  <thead>\n",
       "    <tr style=\"text-align: right;\">\n",
       "      <th></th>\n",
       "      <th>2014-11-13 00:00:00</th>\n",
       "      <th>Unnamed: 1</th>\n",
       "      <th>2635</th>\n",
       "      <th>82</th>\n",
       "      <th>Scott</th>\n",
       "      <th>1032200</th>\n",
       "      <th>IMPORTED VODKA - MISC</th>\n",
       "      <th>370</th>\n",
       "      <th>Pernod Ricard USA/Austin Nichols</th>\n",
       "      <th>34036</th>\n",
       "      <th>Absolut Pears</th>\n",
       "      <th>12</th>\n",
       "      <th>750</th>\n",
       "      <th>$11.49</th>\n",
       "      <th>$17.24</th>\n",
       "      <th>4</th>\n",
       "      <th>68.96</th>\n",
       "    </tr>\n",
       "  </thead>\n",
       "  <tbody>\n",
       "    <tr>\n",
       "      <th>0</th>\n",
       "      <td>2014-11-13 00:00:00</td>\n",
       "      <td>NaN</td>\n",
       "      <td>2635</td>\n",
       "      <td>82</td>\n",
       "      <td>Scott</td>\n",
       "      <td>1032200.0</td>\n",
       "      <td>IMPORTED VODKA - MISC</td>\n",
       "      <td>370</td>\n",
       "      <td>Pernod Ricard USA/Austin Nichols</td>\n",
       "      <td>34076</td>\n",
       "      <td>Absolut Vanilia</td>\n",
       "      <td>12</td>\n",
       "      <td>750</td>\n",
       "      <td>$11.49</td>\n",
       "      <td>$17.24</td>\n",
       "      <td>12</td>\n",
       "      <td>206.88</td>\n",
       "    </tr>\n",
       "    <tr>\n",
       "      <th>1</th>\n",
       "      <td>2014-11-13 00:00:00</td>\n",
       "      <td>NaN</td>\n",
       "      <td>2635</td>\n",
       "      <td>82</td>\n",
       "      <td>Scott</td>\n",
       "      <td>1032200.0</td>\n",
       "      <td>IMPORTED VODKA - MISC</td>\n",
       "      <td>370</td>\n",
       "      <td>Pernod Ricard USA/Austin Nichols</td>\n",
       "      <td>34116</td>\n",
       "      <td>Absolut Mandrin</td>\n",
       "      <td>12</td>\n",
       "      <td>750</td>\n",
       "      <td>$11.49</td>\n",
       "      <td>$17.24</td>\n",
       "      <td>12</td>\n",
       "      <td>206.88</td>\n",
       "    </tr>\n",
       "    <tr>\n",
       "      <th>2</th>\n",
       "      <td>2014-11-13 00:00:00</td>\n",
       "      <td>NaN</td>\n",
       "      <td>2635</td>\n",
       "      <td>82</td>\n",
       "      <td>Scott</td>\n",
       "      <td>1032080.0</td>\n",
       "      <td>IMPORTED VODKA</td>\n",
       "      <td>420</td>\n",
       "      <td>Moet Hennessy USA Inc.</td>\n",
       "      <td>34155</td>\n",
       "      <td>Belvedere Vodka</td>\n",
       "      <td>6</td>\n",
       "      <td>750</td>\n",
       "      <td>$17.15</td>\n",
       "      <td>$25.73</td>\n",
       "      <td>6</td>\n",
       "      <td>154.38</td>\n",
       "    </tr>\n",
       "    <tr>\n",
       "      <th>3</th>\n",
       "      <td>2014-11-13 00:00:00</td>\n",
       "      <td>NaN</td>\n",
       "      <td>2635</td>\n",
       "      <td>82</td>\n",
       "      <td>Scott</td>\n",
       "      <td>1032080.0</td>\n",
       "      <td>IMPORTED VODKA</td>\n",
       "      <td>260</td>\n",
       "      <td>Diageo Americas</td>\n",
       "      <td>34164</td>\n",
       "      <td>Ciroc Luxury Vodka</td>\n",
       "      <td>24</td>\n",
       "      <td>200</td>\n",
       "      <td>$5.00</td>\n",
       "      <td>$7.50</td>\n",
       "      <td>6</td>\n",
       "      <td>45.00</td>\n",
       "    </tr>\n",
       "    <tr>\n",
       "      <th>4</th>\n",
       "      <td>2014-11-13 00:00:00</td>\n",
       "      <td>NaN</td>\n",
       "      <td>2635</td>\n",
       "      <td>82</td>\n",
       "      <td>Scott</td>\n",
       "      <td>1032200.0</td>\n",
       "      <td>IMPORTED VODKA - MISC</td>\n",
       "      <td>370</td>\n",
       "      <td>Pernod Ricard USA/Austin Nichols</td>\n",
       "      <td>34190</td>\n",
       "      <td>Absolut Cherrykran</td>\n",
       "      <td>12</td>\n",
       "      <td>750</td>\n",
       "      <td>$11.49</td>\n",
       "      <td>$17.24</td>\n",
       "      <td>12</td>\n",
       "      <td>206.88</td>\n",
       "    </tr>\n",
       "  </tbody>\n",
       "</table>\n",
       "</div>"
      ],
      "text/plain": [
       "   2014-11-13 00:00:00 Unnamed: 1  2635  82  Scott    1032200  \\\n",
       "0  2014-11-13 00:00:00        NaN  2635  82  Scott  1032200.0   \n",
       "1  2014-11-13 00:00:00        NaN  2635  82  Scott  1032200.0   \n",
       "2  2014-11-13 00:00:00        NaN  2635  82  Scott  1032080.0   \n",
       "3  2014-11-13 00:00:00        NaN  2635  82  Scott  1032080.0   \n",
       "4  2014-11-13 00:00:00        NaN  2635  82  Scott  1032200.0   \n",
       "\n",
       "   IMPORTED VODKA - MISC  370  Pernod Ricard USA/Austin Nichols  34036  \\\n",
       "0  IMPORTED VODKA - MISC  370  Pernod Ricard USA/Austin Nichols  34076   \n",
       "1  IMPORTED VODKA - MISC  370  Pernod Ricard USA/Austin Nichols  34116   \n",
       "2         IMPORTED VODKA  420            Moet Hennessy USA Inc.  34155   \n",
       "3         IMPORTED VODKA  260                   Diageo Americas  34164   \n",
       "4  IMPORTED VODKA - MISC  370  Pernod Ricard USA/Austin Nichols  34190   \n",
       "\n",
       "        Absolut Pears  12  750  $11.49  $17.24   4   68.96  \n",
       "0     Absolut Vanilia  12  750  $11.49  $17.24  12  206.88  \n",
       "1     Absolut Mandrin  12  750  $11.49  $17.24  12  206.88  \n",
       "2     Belvedere Vodka   6  750  $17.15  $25.73   6  154.38  \n",
       "3  Ciroc Luxury Vodka  24  200   $5.00   $7.50   6   45.00  \n",
       "4  Absolut Cherrykran  12  750  $11.49  $17.24  12  206.88  "
      ]
     },
     "execution_count": 17,
     "metadata": {},
     "output_type": "execute_result"
    }
   ],
   "source": [
    "data3 = pd.read_csv('F:/Assignment/sales.csv', header = 0)\n",
    "data3.head()"
   ]
  },
  {
   "cell_type": "code",
   "execution_count": 18,
   "metadata": {},
   "outputs": [],
   "source": [
    "data3.columns = ['Date','Convenience_store ','Store','County_number','County','Category','Category_name','Vendor_no',\n",
    "                  'Vendor','Item', 'Description','Pack','Liter_size', 'State_btl_cost', 'Btl_price', 'Bottle_qty',\n",
    "                 'Total']"
   ]
  },
  {
   "cell_type": "code",
   "execution_count": 19,
   "metadata": {},
   "outputs": [
    {
     "data": {
      "text/plain": [
       "(3049912, 17)"
      ]
     },
     "execution_count": 19,
     "metadata": {},
     "output_type": "execute_result"
    }
   ],
   "source": [
    "data3.shape"
   ]
  },
  {
   "cell_type": "code",
   "execution_count": 20,
   "metadata": {},
   "outputs": [
    {
     "data": {
      "text/html": [
       "<div>\n",
       "<style scoped>\n",
       "    .dataframe tbody tr th:only-of-type {\n",
       "        vertical-align: middle;\n",
       "    }\n",
       "\n",
       "    .dataframe tbody tr th {\n",
       "        vertical-align: top;\n",
       "    }\n",
       "\n",
       "    .dataframe thead th {\n",
       "        text-align: right;\n",
       "    }\n",
       "</style>\n",
       "<table border=\"1\" class=\"dataframe\">\n",
       "  <thead>\n",
       "    <tr style=\"text-align: right;\">\n",
       "      <th></th>\n",
       "      <th>Date</th>\n",
       "      <th>Convenience_store</th>\n",
       "      <th>Store</th>\n",
       "      <th>County_number</th>\n",
       "      <th>County</th>\n",
       "      <th>Category</th>\n",
       "      <th>Category_name</th>\n",
       "      <th>Vendor_no</th>\n",
       "      <th>Vendor</th>\n",
       "      <th>Item</th>\n",
       "      <th>Description</th>\n",
       "      <th>Pack</th>\n",
       "      <th>Liter_size</th>\n",
       "      <th>State_btl_cost</th>\n",
       "      <th>Btl_price</th>\n",
       "      <th>Bottle_qty</th>\n",
       "      <th>Total</th>\n",
       "    </tr>\n",
       "  </thead>\n",
       "  <tbody>\n",
       "    <tr>\n",
       "      <th>0</th>\n",
       "      <td>2014-11-13 00:00:00</td>\n",
       "      <td>NaN</td>\n",
       "      <td>2635</td>\n",
       "      <td>82</td>\n",
       "      <td>Scott</td>\n",
       "      <td>1032200.0</td>\n",
       "      <td>IMPORTED VODKA - MISC</td>\n",
       "      <td>370</td>\n",
       "      <td>Pernod Ricard USA/Austin Nichols</td>\n",
       "      <td>34076</td>\n",
       "      <td>Absolut Vanilia</td>\n",
       "      <td>12</td>\n",
       "      <td>750</td>\n",
       "      <td>$11.49</td>\n",
       "      <td>$17.24</td>\n",
       "      <td>12</td>\n",
       "      <td>206.88</td>\n",
       "    </tr>\n",
       "    <tr>\n",
       "      <th>1</th>\n",
       "      <td>2014-11-13 00:00:00</td>\n",
       "      <td>NaN</td>\n",
       "      <td>2635</td>\n",
       "      <td>82</td>\n",
       "      <td>Scott</td>\n",
       "      <td>1032200.0</td>\n",
       "      <td>IMPORTED VODKA - MISC</td>\n",
       "      <td>370</td>\n",
       "      <td>Pernod Ricard USA/Austin Nichols</td>\n",
       "      <td>34116</td>\n",
       "      <td>Absolut Mandrin</td>\n",
       "      <td>12</td>\n",
       "      <td>750</td>\n",
       "      <td>$11.49</td>\n",
       "      <td>$17.24</td>\n",
       "      <td>12</td>\n",
       "      <td>206.88</td>\n",
       "    </tr>\n",
       "    <tr>\n",
       "      <th>2</th>\n",
       "      <td>2014-11-13 00:00:00</td>\n",
       "      <td>NaN</td>\n",
       "      <td>2635</td>\n",
       "      <td>82</td>\n",
       "      <td>Scott</td>\n",
       "      <td>1032080.0</td>\n",
       "      <td>IMPORTED VODKA</td>\n",
       "      <td>420</td>\n",
       "      <td>Moet Hennessy USA Inc.</td>\n",
       "      <td>34155</td>\n",
       "      <td>Belvedere Vodka</td>\n",
       "      <td>6</td>\n",
       "      <td>750</td>\n",
       "      <td>$17.15</td>\n",
       "      <td>$25.73</td>\n",
       "      <td>6</td>\n",
       "      <td>154.38</td>\n",
       "    </tr>\n",
       "    <tr>\n",
       "      <th>3</th>\n",
       "      <td>2014-11-13 00:00:00</td>\n",
       "      <td>NaN</td>\n",
       "      <td>2635</td>\n",
       "      <td>82</td>\n",
       "      <td>Scott</td>\n",
       "      <td>1032080.0</td>\n",
       "      <td>IMPORTED VODKA</td>\n",
       "      <td>260</td>\n",
       "      <td>Diageo Americas</td>\n",
       "      <td>34164</td>\n",
       "      <td>Ciroc Luxury Vodka</td>\n",
       "      <td>24</td>\n",
       "      <td>200</td>\n",
       "      <td>$5.00</td>\n",
       "      <td>$7.50</td>\n",
       "      <td>6</td>\n",
       "      <td>45.00</td>\n",
       "    </tr>\n",
       "    <tr>\n",
       "      <th>4</th>\n",
       "      <td>2014-11-13 00:00:00</td>\n",
       "      <td>NaN</td>\n",
       "      <td>2635</td>\n",
       "      <td>82</td>\n",
       "      <td>Scott</td>\n",
       "      <td>1032200.0</td>\n",
       "      <td>IMPORTED VODKA - MISC</td>\n",
       "      <td>370</td>\n",
       "      <td>Pernod Ricard USA/Austin Nichols</td>\n",
       "      <td>34190</td>\n",
       "      <td>Absolut Cherrykran</td>\n",
       "      <td>12</td>\n",
       "      <td>750</td>\n",
       "      <td>$11.49</td>\n",
       "      <td>$17.24</td>\n",
       "      <td>12</td>\n",
       "      <td>206.88</td>\n",
       "    </tr>\n",
       "  </tbody>\n",
       "</table>\n",
       "</div>"
      ],
      "text/plain": [
       "                  Date Convenience_store   Store  County_number County  \\\n",
       "0  2014-11-13 00:00:00                NaN   2635             82  Scott   \n",
       "1  2014-11-13 00:00:00                NaN   2635             82  Scott   \n",
       "2  2014-11-13 00:00:00                NaN   2635             82  Scott   \n",
       "3  2014-11-13 00:00:00                NaN   2635             82  Scott   \n",
       "4  2014-11-13 00:00:00                NaN   2635             82  Scott   \n",
       "\n",
       "    Category          Category_name  Vendor_no  \\\n",
       "0  1032200.0  IMPORTED VODKA - MISC        370   \n",
       "1  1032200.0  IMPORTED VODKA - MISC        370   \n",
       "2  1032080.0         IMPORTED VODKA        420   \n",
       "3  1032080.0         IMPORTED VODKA        260   \n",
       "4  1032200.0  IMPORTED VODKA - MISC        370   \n",
       "\n",
       "                             Vendor   Item         Description  Pack  \\\n",
       "0  Pernod Ricard USA/Austin Nichols  34076     Absolut Vanilia    12   \n",
       "1  Pernod Ricard USA/Austin Nichols  34116     Absolut Mandrin    12   \n",
       "2            Moet Hennessy USA Inc.  34155     Belvedere Vodka     6   \n",
       "3                   Diageo Americas  34164  Ciroc Luxury Vodka    24   \n",
       "4  Pernod Ricard USA/Austin Nichols  34190  Absolut Cherrykran    12   \n",
       "\n",
       "   Liter_size State_btl_cost Btl_price  Bottle_qty   Total  \n",
       "0         750         $11.49    $17.24          12  206.88  \n",
       "1         750         $11.49    $17.24          12  206.88  \n",
       "2         750         $17.15    $25.73           6  154.38  \n",
       "3         200          $5.00     $7.50           6   45.00  \n",
       "4         750         $11.49    $17.24          12  206.88  "
      ]
     },
     "execution_count": 20,
     "metadata": {},
     "output_type": "execute_result"
    }
   ],
   "source": [
    "data3.head()"
   ]
  },
  {
   "cell_type": "code",
   "execution_count": 21,
   "metadata": {},
   "outputs": [
    {
     "name": "stdout",
     "output_type": "stream",
     "text": [
      "<class 'pandas.core.frame.DataFrame'>\n",
      "RangeIndex: 3049912 entries, 0 to 3049911\n",
      "Data columns (total 17 columns):\n",
      " #   Column              Dtype  \n",
      "---  ------              -----  \n",
      " 0   Date                object \n",
      " 1   Convenience_store   object \n",
      " 2   Store               int64  \n",
      " 3   County_number       int64  \n",
      " 4   County              object \n",
      " 5   Category            float64\n",
      " 6   Category_name       object \n",
      " 7   Vendor_no           int64  \n",
      " 8   Vendor              object \n",
      " 9   Item                int64  \n",
      " 10  Description         object \n",
      " 11  Pack                int64  \n",
      " 12  Liter_size          int64  \n",
      " 13  State_btl_cost      object \n",
      " 14  Btl_price           object \n",
      " 15  Bottle_qty          int64  \n",
      " 16  Total               float64\n",
      "dtypes: float64(2), int64(7), object(8)\n",
      "memory usage: 395.6+ MB\n"
     ]
    }
   ],
   "source": [
    "data3.info()"
   ]
  },
  {
   "cell_type": "code",
   "execution_count": 22,
   "metadata": {},
   "outputs": [
    {
     "data": {
      "text/plain": [
       "Date                        0\n",
       "Convenience_store     2732342\n",
       "Store                       0\n",
       "County_number               0\n",
       "County                   1719\n",
       "Category                   29\n",
       "Category_name             383\n",
       "Vendor_no                   0\n",
       "Vendor                     62\n",
       "Item                        0\n",
       "Description                 0\n",
       "Pack                        0\n",
       "Liter_size                  0\n",
       "State_btl_cost              0\n",
       "Btl_price                   0\n",
       "Bottle_qty                  0\n",
       "Total                       0\n",
       "dtype: int64"
      ]
     },
     "execution_count": 22,
     "metadata": {},
     "output_type": "execute_result"
    }
   ],
   "source": [
    "data3.isnull().sum()"
   ]
  },
  {
   "cell_type": "code",
   "execution_count": 23,
   "metadata": {},
   "outputs": [
    {
     "data": {
      "text/plain": [
       "<AxesSubplot:>"
      ]
     },
     "execution_count": 23,
     "metadata": {},
     "output_type": "execute_result"
    },
    {
     "data": {
      "image/png": "[encoded data removed]",
      "text/plain": [
       "<Figure size 432x288 with 1 Axes>"
      ]
     },
     "metadata": {
      "needs_background": "light"
     },
     "output_type": "display_data"
    }
   ],
   "source": [
    "sns.heatmap(data3.isnull(),yticklabels=False,cbar=False,cmap='viridis')"
   ]
  },
  {
   "cell_type": "code",
   "execution_count": 24,
   "metadata": {},
   "outputs": [],
   "source": [
    " to_drop = ['Convenience_store']"
   ]
  },
  {
   "cell_type": "code",
   "execution_count": 25,
   "metadata": {},
   "outputs": [
    {
     "data": {
      "text/html": [
       "<div>\n",
       "<style scoped>\n",
       "    .dataframe tbody tr th:only-of-type {\n",
       "        vertical-align: middle;\n",
       "    }\n",
       "\n",
       "    .dataframe tbody tr th {\n",
       "        vertical-align: top;\n",
       "    }\n",
       "\n",
       "    .dataframe thead th {\n",
       "        text-align: right;\n",
       "    }\n",
       "</style>\n",
       "<table border=\"1\" class=\"dataframe\">\n",
       "  <thead>\n",
       "    <tr style=\"text-align: right;\">\n",
       "      <th></th>\n",
       "      <th>Date</th>\n",
       "      <th>Convenience_store</th>\n",
       "      <th>Store</th>\n",
       "      <th>County_number</th>\n",
       "      <th>County</th>\n",
       "      <th>Category</th>\n",
       "      <th>Category_name</th>\n",
       "      <th>Vendor_no</th>\n",
       "      <th>Vendor</th>\n",
       "      <th>Item</th>\n",
       "      <th>Description</th>\n",
       "      <th>Pack</th>\n",
       "      <th>Liter_size</th>\n",
       "      <th>State_btl_cost</th>\n",
       "      <th>Btl_price</th>\n",
       "      <th>Bottle_qty</th>\n",
       "      <th>Total</th>\n",
       "    </tr>\n",
       "  </thead>\n",
       "  <tbody>\n",
       "    <tr>\n",
       "      <th>0</th>\n",
       "      <td>2014-11-13 00:00:00</td>\n",
       "      <td>NaN</td>\n",
       "      <td>2635</td>\n",
       "      <td>82</td>\n",
       "      <td>Scott</td>\n",
       "      <td>1032200.0</td>\n",
       "      <td>IMPORTED VODKA - MISC</td>\n",
       "      <td>370</td>\n",
       "      <td>Pernod Ricard USA/Austin Nichols</td>\n",
       "      <td>34076</td>\n",
       "      <td>Absolut Vanilia</td>\n",
       "      <td>12</td>\n",
       "      <td>750</td>\n",
       "      <td>$11.49</td>\n",
       "      <td>$17.24</td>\n",
       "      <td>12</td>\n",
       "      <td>206.88</td>\n",
       "    </tr>\n",
       "    <tr>\n",
       "      <th>1</th>\n",
       "      <td>2014-11-13 00:00:00</td>\n",
       "      <td>NaN</td>\n",
       "      <td>2635</td>\n",
       "      <td>82</td>\n",
       "      <td>Scott</td>\n",
       "      <td>1032200.0</td>\n",
       "      <td>IMPORTED VODKA - MISC</td>\n",
       "      <td>370</td>\n",
       "      <td>Pernod Ricard USA/Austin Nichols</td>\n",
       "      <td>34116</td>\n",
       "      <td>Absolut Mandrin</td>\n",
       "      <td>12</td>\n",
       "      <td>750</td>\n",
       "      <td>$11.49</td>\n",
       "      <td>$17.24</td>\n",
       "      <td>12</td>\n",
       "      <td>206.88</td>\n",
       "    </tr>\n",
       "    <tr>\n",
       "      <th>2</th>\n",
       "      <td>2014-11-13 00:00:00</td>\n",
       "      <td>NaN</td>\n",
       "      <td>2635</td>\n",
       "      <td>82</td>\n",
       "      <td>Scott</td>\n",
       "      <td>1032080.0</td>\n",
       "      <td>IMPORTED VODKA</td>\n",
       "      <td>420</td>\n",
       "      <td>Moet Hennessy USA Inc.</td>\n",
       "      <td>34155</td>\n",
       "      <td>Belvedere Vodka</td>\n",
       "      <td>6</td>\n",
       "      <td>750</td>\n",
       "      <td>$17.15</td>\n",
       "      <td>$25.73</td>\n",
       "      <td>6</td>\n",
       "      <td>154.38</td>\n",
       "    </tr>\n",
       "    <tr>\n",
       "      <th>3</th>\n",
       "      <td>2014-11-13 00:00:00</td>\n",
       "      <td>NaN</td>\n",
       "      <td>2635</td>\n",
       "      <td>82</td>\n",
       "      <td>Scott</td>\n",
       "      <td>1032080.0</td>\n",
       "      <td>IMPORTED VODKA</td>\n",
       "      <td>260</td>\n",
       "      <td>Diageo Americas</td>\n",
       "      <td>34164</td>\n",
       "      <td>Ciroc Luxury Vodka</td>\n",
       "      <td>24</td>\n",
       "      <td>200</td>\n",
       "      <td>$5.00</td>\n",
       "      <td>$7.50</td>\n",
       "      <td>6</td>\n",
       "      <td>45.00</td>\n",
       "    </tr>\n",
       "    <tr>\n",
       "      <th>4</th>\n",
       "      <td>2014-11-13 00:00:00</td>\n",
       "      <td>NaN</td>\n",
       "      <td>2635</td>\n",
       "      <td>82</td>\n",
       "      <td>Scott</td>\n",
       "      <td>1032200.0</td>\n",
       "      <td>IMPORTED VODKA - MISC</td>\n",
       "      <td>370</td>\n",
       "      <td>Pernod Ricard USA/Austin Nichols</td>\n",
       "      <td>34190</td>\n",
       "      <td>Absolut Cherrykran</td>\n",
       "      <td>12</td>\n",
       "      <td>750</td>\n",
       "      <td>$11.49</td>\n",
       "      <td>$17.24</td>\n",
       "      <td>12</td>\n",
       "      <td>206.88</td>\n",
       "    </tr>\n",
       "  </tbody>\n",
       "</table>\n",
       "</div>"
      ],
      "text/plain": [
       "                  Date Convenience_store   Store  County_number County  \\\n",
       "0  2014-11-13 00:00:00                NaN   2635             82  Scott   \n",
       "1  2014-11-13 00:00:00                NaN   2635             82  Scott   \n",
       "2  2014-11-13 00:00:00                NaN   2635             82  Scott   \n",
       "3  2014-11-13 00:00:00                NaN   2635             82  Scott   \n",
       "4  2014-11-13 00:00:00                NaN   2635             82  Scott   \n",
       "\n",
       "    Category          Category_name  Vendor_no  \\\n",
       "0  1032200.0  IMPORTED VODKA - MISC        370   \n",
       "1  1032200.0  IMPORTED VODKA - MISC        370   \n",
       "2  1032080.0         IMPORTED VODKA        420   \n",
       "3  1032080.0         IMPORTED VODKA        260   \n",
       "4  1032200.0  IMPORTED VODKA - MISC        370   \n",
       "\n",
       "                             Vendor   Item         Description  Pack  \\\n",
       "0  Pernod Ricard USA/Austin Nichols  34076     Absolut Vanilia    12   \n",
       "1  Pernod Ricard USA/Austin Nichols  34116     Absolut Mandrin    12   \n",
       "2            Moet Hennessy USA Inc.  34155     Belvedere Vodka     6   \n",
       "3                   Diageo Americas  34164  Ciroc Luxury Vodka    24   \n",
       "4  Pernod Ricard USA/Austin Nichols  34190  Absolut Cherrykran    12   \n",
       "\n",
       "   Liter_size State_btl_cost Btl_price  Bottle_qty   Total  \n",
       "0         750         $11.49    $17.24          12  206.88  \n",
       "1         750         $11.49    $17.24          12  206.88  \n",
       "2         750         $17.15    $25.73           6  154.38  \n",
       "3         200          $5.00     $7.50           6   45.00  \n",
       "4         750         $11.49    $17.24          12  206.88  "
      ]
     },
     "execution_count": 25,
     "metadata": {},
     "output_type": "execute_result"
    }
   ],
   "source": [
    "data3.head()"
   ]
  },
  {
   "cell_type": "code",
   "execution_count": 27,
   "metadata": {},
   "outputs": [],
   "source": [
    "data3.to_csv('data3.csv', sep = ',')"
   ]
  },
  {
   "cell_type": "markdown",
   "metadata": {},
   "source": [
    "Exporting the dataset"
   ]
  },
  {
   "cell_type": "code",
   "execution_count": 38,
   "metadata": {},
   "outputs": [
    {
     "name": "stderr",
     "output_type": "stream",
     "text": [
      ":FEATURES DONE:                    |█████████████████████| [100%]   09:30  -> (00:00 left)\n",
      ":PAIRWISE DONE:                    |█████████████████████| [100%]   02:10  -> (00:00 left)\n"
     ]
    },
    {
     "name": "stdout",
     "output_type": "stream",
     "text": [
      "Creating Associations graph... DONE!\n"
     ]
    }
   ],
   "source": [
    "my_report = sv.analyze(data3)"
   ]
  },
  {
   "cell_type": "code",
   "execution_count": 39,
   "metadata": {},
   "outputs": [
    {
     "name": "stdout",
     "output_type": "stream",
     "text": [
      "Report SWEETVIZ_REPORT.html was generated! NOTEBOOK/COLAB USERS: no browser will pop up, the report is saved in your notebook/colab files.\n"
     ]
    }
   ],
   "source": [
    "my_report.show_html()"
   ]
  },
  {
   "cell_type": "code",
   "execution_count": null,
   "metadata": {},
   "outputs": [],
   "source": []
  }
 ],
 "metadata": {
  "kernelspec": {
   "display_name": "Python 3",
   "language": "python",
   "name": "python3"
  },
  "language_info": {
   "codemirror_mode": {
    "name": "ipython",
    "version": 3
   },
   "file_extension": ".py",
   "mimetype": "text/x-python",
   "name": "python",
   "nbconvert_exporter": "python",
   "pygments_lexer": "ipython3",
   "version": "3.7.4"
  }
 },
 "nbformat": 4,
 "nbformat_minor": 2
}
