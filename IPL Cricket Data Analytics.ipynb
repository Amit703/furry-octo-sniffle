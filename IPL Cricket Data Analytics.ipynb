{
 "cells": [
  {
   "cell_type": "markdown",
   "metadata": {
    "id": "POLy2LFowNKJ"
   },
   "source": [
    "# Lets Play Cricket - IPL Exploration Analysis"
   ]
  },
  {
   "cell_type": "markdown",
   "metadata": {
    "id": "Am_ffSCAwNKK"
   },
   "source": [
    "An data analysis exploration for Cricket fans!\n",
    "\n",
    "# 1. Data Understanding"
   ]
  },
  {
   "cell_type": "markdown",
   "metadata": {
    "id": "cSH1ki0LwNKK"
   },
   "source": [
    "![](https://matchday.in/wp-content/uploads/2020/09/Dream-11-IPL-2020-schedule-announced.jpg)"
   ]
  },
  {
   "cell_type": "code",
   "execution_count": 1,
   "metadata": {
    "_cell_guid": "b1076dfc-b9ad-4769-8c92-a6c4dae69d19",
    "_uuid": "8f2839f25d086af736a60e9eeb907d3b93b6e0e5",
    "executionInfo": {
     "elapsed": 2452,
     "status": "ok",
     "timestamp": 1603762645500,
     "user": {
      "displayName": "Rajeev Ratan",
      "photoUrl": "https://lh3.googleusercontent.com/a-/AOh14GhBYJnwdIGYSJdvGmzIt64rYSF1dDuiFyfRw4Rpeg=s64",
      "userId": "08597265227091462140"
     },
     "user_tz": 240
    },
    "id": "eX5sLPDUwNKL"
   },
   "outputs": [],
   "source": [
    "# Our imports\n",
    "import numpy as np \n",
    "import pandas as pd \n",
    "import seaborn as sns\n",
    "import matplotlib.pyplot as plt\n",
    "import plotly.express as px\n",
    "import plotly.graph_objects as go"
   ]
  },
  {
   "cell_type": "code",
   "execution_count": 2,
   "metadata": {
    "_cell_guid": "79c7e3d0-c299-4dcb-8224-4455121ee9b0",
    "_uuid": "d629ff2d2480ee46fbb7e2d37f6b5fab8052498a",
    "executionInfo": {
     "elapsed": 4044,
     "status": "ok",
     "timestamp": 1603762653467,
     "user": {
      "displayName": "Rajeev Ratan",
      "photoUrl": "https://lh3.googleusercontent.com/a-/AOh14GhBYJnwdIGYSJdvGmzIt64rYSF1dDuiFyfRw4Rpeg=s64",
      "userId": "08597265227091462140"
     },
     "user_tz": 240
    },
    "id": "oZGAENcjwNKN"
   },
   "outputs": [],
   "source": [
    "# ball by ball data\n",
    "delivery_data = pd.read_csv('https://raw.githubusercontent.com/rajeevratan84/data-analyst-bootcamp/master/deliveries.csv') \n",
    "\n",
    "# IPL Match Data from 2008 and 2016.\n",
    "match_data = pd.read_csv('https://raw.githubusercontent.com/rajeevratan84/data-analyst-bootcamp/master/matches.csv')"
   ]
  },
  {
   "cell_type": "code",
   "execution_count": 3,
   "metadata": {
    "colab": {
     "base_uri": "https://localhost:8080/",
     "height": 383
    },
    "executionInfo": {
     "elapsed": 1061,
     "status": "ok",
     "timestamp": 1603762653467,
     "user": {
      "displayName": "Rajeev Ratan",
      "photoUrl": "https://lh3.googleusercontent.com/a-/AOh14GhBYJnwdIGYSJdvGmzIt64rYSF1dDuiFyfRw4Rpeg=s64",
      "userId": "08597265227091462140"
     },
     "user_tz": 240
    },
    "id": "6Bw9CdWpxeUD",
    "outputId": "47c9acba-798f-48fc-8271-ac1b210375b2"
   },
   "outputs": [
    {
     "data": {
      "text/html": [
       "<div>\n",
       "<style scoped>\n",
       "    .dataframe tbody tr th:only-of-type {\n",
       "        vertical-align: middle;\n",
       "    }\n",
       "\n",
       "    .dataframe tbody tr th {\n",
       "        vertical-align: top;\n",
       "    }\n",
       "\n",
       "    .dataframe thead th {\n",
       "        text-align: right;\n",
       "    }\n",
       "</style>\n",
       "<table border=\"1\" class=\"dataframe\">\n",
       "  <thead>\n",
       "    <tr style=\"text-align: right;\">\n",
       "      <th></th>\n",
       "      <th>match_id</th>\n",
       "      <th>inning</th>\n",
       "      <th>batting_team</th>\n",
       "      <th>bowling_team</th>\n",
       "      <th>over</th>\n",
       "      <th>ball</th>\n",
       "      <th>batsman</th>\n",
       "      <th>non_striker</th>\n",
       "      <th>bowler</th>\n",
       "      <th>is_super_over</th>\n",
       "      <th>...</th>\n",
       "      <th>bye_runs</th>\n",
       "      <th>legbye_runs</th>\n",
       "      <th>noball_runs</th>\n",
       "      <th>penalty_runs</th>\n",
       "      <th>batsman_runs</th>\n",
       "      <th>extra_runs</th>\n",
       "      <th>total_runs</th>\n",
       "      <th>player_dismissed</th>\n",
       "      <th>dismissal_kind</th>\n",
       "      <th>fielder</th>\n",
       "    </tr>\n",
       "  </thead>\n",
       "  <tbody>\n",
       "    <tr>\n",
       "      <th>0</th>\n",
       "      <td>1</td>\n",
       "      <td>1</td>\n",
       "      <td>Kolkata Knight Riders</td>\n",
       "      <td>Royal Challengers Bangalore</td>\n",
       "      <td>1</td>\n",
       "      <td>1</td>\n",
       "      <td>SC Ganguly</td>\n",
       "      <td>BB McCullum</td>\n",
       "      <td>P Kumar</td>\n",
       "      <td>0</td>\n",
       "      <td>...</td>\n",
       "      <td>0</td>\n",
       "      <td>1</td>\n",
       "      <td>0</td>\n",
       "      <td>0</td>\n",
       "      <td>0</td>\n",
       "      <td>1</td>\n",
       "      <td>1</td>\n",
       "      <td>NaN</td>\n",
       "      <td>NaN</td>\n",
       "      <td>NaN</td>\n",
       "    </tr>\n",
       "    <tr>\n",
       "      <th>1</th>\n",
       "      <td>1</td>\n",
       "      <td>1</td>\n",
       "      <td>Kolkata Knight Riders</td>\n",
       "      <td>Royal Challengers Bangalore</td>\n",
       "      <td>1</td>\n",
       "      <td>2</td>\n",
       "      <td>BB McCullum</td>\n",
       "      <td>SC Ganguly</td>\n",
       "      <td>P Kumar</td>\n",
       "      <td>0</td>\n",
       "      <td>...</td>\n",
       "      <td>0</td>\n",
       "      <td>0</td>\n",
       "      <td>0</td>\n",
       "      <td>0</td>\n",
       "      <td>0</td>\n",
       "      <td>0</td>\n",
       "      <td>0</td>\n",
       "      <td>NaN</td>\n",
       "      <td>NaN</td>\n",
       "      <td>NaN</td>\n",
       "    </tr>\n",
       "    <tr>\n",
       "      <th>2</th>\n",
       "      <td>1</td>\n",
       "      <td>1</td>\n",
       "      <td>Kolkata Knight Riders</td>\n",
       "      <td>Royal Challengers Bangalore</td>\n",
       "      <td>1</td>\n",
       "      <td>3</td>\n",
       "      <td>BB McCullum</td>\n",
       "      <td>SC Ganguly</td>\n",
       "      <td>P Kumar</td>\n",
       "      <td>0</td>\n",
       "      <td>...</td>\n",
       "      <td>0</td>\n",
       "      <td>0</td>\n",
       "      <td>0</td>\n",
       "      <td>0</td>\n",
       "      <td>0</td>\n",
       "      <td>1</td>\n",
       "      <td>1</td>\n",
       "      <td>NaN</td>\n",
       "      <td>NaN</td>\n",
       "      <td>NaN</td>\n",
       "    </tr>\n",
       "    <tr>\n",
       "      <th>3</th>\n",
       "      <td>1</td>\n",
       "      <td>1</td>\n",
       "      <td>Kolkata Knight Riders</td>\n",
       "      <td>Royal Challengers Bangalore</td>\n",
       "      <td>1</td>\n",
       "      <td>4</td>\n",
       "      <td>BB McCullum</td>\n",
       "      <td>SC Ganguly</td>\n",
       "      <td>P Kumar</td>\n",
       "      <td>0</td>\n",
       "      <td>...</td>\n",
       "      <td>0</td>\n",
       "      <td>0</td>\n",
       "      <td>0</td>\n",
       "      <td>0</td>\n",
       "      <td>0</td>\n",
       "      <td>0</td>\n",
       "      <td>0</td>\n",
       "      <td>NaN</td>\n",
       "      <td>NaN</td>\n",
       "      <td>NaN</td>\n",
       "    </tr>\n",
       "    <tr>\n",
       "      <th>4</th>\n",
       "      <td>1</td>\n",
       "      <td>1</td>\n",
       "      <td>Kolkata Knight Riders</td>\n",
       "      <td>Royal Challengers Bangalore</td>\n",
       "      <td>1</td>\n",
       "      <td>5</td>\n",
       "      <td>BB McCullum</td>\n",
       "      <td>SC Ganguly</td>\n",
       "      <td>P Kumar</td>\n",
       "      <td>0</td>\n",
       "      <td>...</td>\n",
       "      <td>0</td>\n",
       "      <td>0</td>\n",
       "      <td>0</td>\n",
       "      <td>0</td>\n",
       "      <td>0</td>\n",
       "      <td>0</td>\n",
       "      <td>0</td>\n",
       "      <td>NaN</td>\n",
       "      <td>NaN</td>\n",
       "      <td>NaN</td>\n",
       "    </tr>\n",
       "  </tbody>\n",
       "</table>\n",
       "<p>5 rows × 21 columns</p>\n",
       "</div>"
      ],
      "text/plain": [
       "   match_id  inning           batting_team                 bowling_team  over  \\\n",
       "0         1       1  Kolkata Knight Riders  Royal Challengers Bangalore     1   \n",
       "1         1       1  Kolkata Knight Riders  Royal Challengers Bangalore     1   \n",
       "2         1       1  Kolkata Knight Riders  Royal Challengers Bangalore     1   \n",
       "3         1       1  Kolkata Knight Riders  Royal Challengers Bangalore     1   \n",
       "4         1       1  Kolkata Knight Riders  Royal Challengers Bangalore     1   \n",
       "\n",
       "   ball      batsman  non_striker   bowler  is_super_over  ...  bye_runs  \\\n",
       "0     1   SC Ganguly  BB McCullum  P Kumar              0  ...         0   \n",
       "1     2  BB McCullum   SC Ganguly  P Kumar              0  ...         0   \n",
       "2     3  BB McCullum   SC Ganguly  P Kumar              0  ...         0   \n",
       "3     4  BB McCullum   SC Ganguly  P Kumar              0  ...         0   \n",
       "4     5  BB McCullum   SC Ganguly  P Kumar              0  ...         0   \n",
       "\n",
       "   legbye_runs  noball_runs  penalty_runs  batsman_runs  extra_runs  \\\n",
       "0            1            0             0             0           1   \n",
       "1            0            0             0             0           0   \n",
       "2            0            0             0             0           1   \n",
       "3            0            0             0             0           0   \n",
       "4            0            0             0             0           0   \n",
       "\n",
       "   total_runs  player_dismissed dismissal_kind fielder  \n",
       "0           1               NaN            NaN     NaN  \n",
       "1           0               NaN            NaN     NaN  \n",
       "2           1               NaN            NaN     NaN  \n",
       "3           0               NaN            NaN     NaN  \n",
       "4           0               NaN            NaN     NaN  \n",
       "\n",
       "[5 rows x 21 columns]"
      ]
     },
     "execution_count": 3,
     "metadata": {},
     "output_type": "execute_result"
    }
   ],
   "source": [
    "delivery_data.head()"
   ]
  },
  {
   "cell_type": "code",
   "execution_count": 4,
   "metadata": {
    "colab": {
     "base_uri": "https://localhost:8080/",
     "height": 400
    },
    "executionInfo": {
     "elapsed": 876,
     "status": "ok",
     "timestamp": 1603762693132,
     "user": {
      "displayName": "Rajeev Ratan",
      "photoUrl": "https://lh3.googleusercontent.com/a-/AOh14GhBYJnwdIGYSJdvGmzIt64rYSF1dDuiFyfRw4Rpeg=s64",
      "userId": "08597265227091462140"
     },
     "user_tz": 240
    },
    "id": "J3kkmPc8wNKQ",
    "outputId": "1a47ce96-6c40-4639-e8fa-0d5587861a91"
   },
   "outputs": [
    {
     "data": {
      "text/html": [
       "<div>\n",
       "<style scoped>\n",
       "    .dataframe tbody tr th:only-of-type {\n",
       "        vertical-align: middle;\n",
       "    }\n",
       "\n",
       "    .dataframe tbody tr th {\n",
       "        vertical-align: top;\n",
       "    }\n",
       "\n",
       "    .dataframe thead th {\n",
       "        text-align: right;\n",
       "    }\n",
       "</style>\n",
       "<table border=\"1\" class=\"dataframe\">\n",
       "  <thead>\n",
       "    <tr style=\"text-align: right;\">\n",
       "      <th></th>\n",
       "      <th>id</th>\n",
       "      <th>season</th>\n",
       "      <th>city</th>\n",
       "      <th>date</th>\n",
       "      <th>team1</th>\n",
       "      <th>team2</th>\n",
       "      <th>toss_winner</th>\n",
       "      <th>toss_decision</th>\n",
       "      <th>result</th>\n",
       "      <th>dl_applied</th>\n",
       "      <th>winner</th>\n",
       "      <th>win_by_runs</th>\n",
       "      <th>win_by_wickets</th>\n",
       "      <th>player_of_match</th>\n",
       "      <th>venue</th>\n",
       "      <th>umpire1</th>\n",
       "      <th>umpire2</th>\n",
       "      <th>umpire3</th>\n",
       "    </tr>\n",
       "  </thead>\n",
       "  <tbody>\n",
       "    <tr>\n",
       "      <th>0</th>\n",
       "      <td>1</td>\n",
       "      <td>2008</td>\n",
       "      <td>Bangalore</td>\n",
       "      <td>2008-04-18</td>\n",
       "      <td>Kolkata Knight Riders</td>\n",
       "      <td>Royal Challengers Bangalore</td>\n",
       "      <td>Royal Challengers Bangalore</td>\n",
       "      <td>field</td>\n",
       "      <td>normal</td>\n",
       "      <td>0</td>\n",
       "      <td>Kolkata Knight Riders</td>\n",
       "      <td>140</td>\n",
       "      <td>0</td>\n",
       "      <td>BB McCullum</td>\n",
       "      <td>M Chinnaswamy Stadium</td>\n",
       "      <td>Asad Rauf</td>\n",
       "      <td>RE Koertzen</td>\n",
       "      <td>NaN</td>\n",
       "    </tr>\n",
       "    <tr>\n",
       "      <th>1</th>\n",
       "      <td>2</td>\n",
       "      <td>2008</td>\n",
       "      <td>Chandigarh</td>\n",
       "      <td>2008-04-19</td>\n",
       "      <td>Chennai Super Kings</td>\n",
       "      <td>Kings XI Punjab</td>\n",
       "      <td>Chennai Super Kings</td>\n",
       "      <td>bat</td>\n",
       "      <td>normal</td>\n",
       "      <td>0</td>\n",
       "      <td>Chennai Super Kings</td>\n",
       "      <td>33</td>\n",
       "      <td>0</td>\n",
       "      <td>MEK Hussey</td>\n",
       "      <td>Punjab Cricket Association Stadium, Mohali</td>\n",
       "      <td>MR Benson</td>\n",
       "      <td>SL Shastri</td>\n",
       "      <td>NaN</td>\n",
       "    </tr>\n",
       "    <tr>\n",
       "      <th>2</th>\n",
       "      <td>3</td>\n",
       "      <td>2008</td>\n",
       "      <td>Delhi</td>\n",
       "      <td>2008-04-19</td>\n",
       "      <td>Rajasthan Royals</td>\n",
       "      <td>Delhi Daredevils</td>\n",
       "      <td>Rajasthan Royals</td>\n",
       "      <td>bat</td>\n",
       "      <td>normal</td>\n",
       "      <td>0</td>\n",
       "      <td>Delhi Daredevils</td>\n",
       "      <td>0</td>\n",
       "      <td>9</td>\n",
       "      <td>MF Maharoof</td>\n",
       "      <td>Feroz Shah Kotla</td>\n",
       "      <td>Aleem Dar</td>\n",
       "      <td>GA Pratapkumar</td>\n",
       "      <td>NaN</td>\n",
       "    </tr>\n",
       "    <tr>\n",
       "      <th>3</th>\n",
       "      <td>4</td>\n",
       "      <td>2008</td>\n",
       "      <td>Mumbai</td>\n",
       "      <td>2008-04-20</td>\n",
       "      <td>Mumbai Indians</td>\n",
       "      <td>Royal Challengers Bangalore</td>\n",
       "      <td>Mumbai Indians</td>\n",
       "      <td>bat</td>\n",
       "      <td>normal</td>\n",
       "      <td>0</td>\n",
       "      <td>Royal Challengers Bangalore</td>\n",
       "      <td>0</td>\n",
       "      <td>5</td>\n",
       "      <td>MV Boucher</td>\n",
       "      <td>Wankhede Stadium</td>\n",
       "      <td>SJ Davis</td>\n",
       "      <td>DJ Harper</td>\n",
       "      <td>NaN</td>\n",
       "    </tr>\n",
       "    <tr>\n",
       "      <th>4</th>\n",
       "      <td>5</td>\n",
       "      <td>2008</td>\n",
       "      <td>Kolkata</td>\n",
       "      <td>2008-04-20</td>\n",
       "      <td>Deccan Chargers</td>\n",
       "      <td>Kolkata Knight Riders</td>\n",
       "      <td>Deccan Chargers</td>\n",
       "      <td>bat</td>\n",
       "      <td>normal</td>\n",
       "      <td>0</td>\n",
       "      <td>Kolkata Knight Riders</td>\n",
       "      <td>0</td>\n",
       "      <td>5</td>\n",
       "      <td>DJ Hussey</td>\n",
       "      <td>Eden Gardens</td>\n",
       "      <td>BF Bowden</td>\n",
       "      <td>K Hariharan</td>\n",
       "      <td>NaN</td>\n",
       "    </tr>\n",
       "  </tbody>\n",
       "</table>\n",
       "</div>"
      ],
      "text/plain": [
       "   id  season        city        date                  team1  \\\n",
       "0   1    2008   Bangalore  2008-04-18  Kolkata Knight Riders   \n",
       "1   2    2008  Chandigarh  2008-04-19    Chennai Super Kings   \n",
       "2   3    2008       Delhi  2008-04-19       Rajasthan Royals   \n",
       "3   4    2008      Mumbai  2008-04-20         Mumbai Indians   \n",
       "4   5    2008     Kolkata  2008-04-20        Deccan Chargers   \n",
       "\n",
       "                         team2                  toss_winner toss_decision  \\\n",
       "0  Royal Challengers Bangalore  Royal Challengers Bangalore         field   \n",
       "1              Kings XI Punjab          Chennai Super Kings           bat   \n",
       "2             Delhi Daredevils             Rajasthan Royals           bat   \n",
       "3  Royal Challengers Bangalore               Mumbai Indians           bat   \n",
       "4        Kolkata Knight Riders              Deccan Chargers           bat   \n",
       "\n",
       "   result  dl_applied                       winner  win_by_runs  \\\n",
       "0  normal           0        Kolkata Knight Riders          140   \n",
       "1  normal           0          Chennai Super Kings           33   \n",
       "2  normal           0             Delhi Daredevils            0   \n",
       "3  normal           0  Royal Challengers Bangalore            0   \n",
       "4  normal           0        Kolkata Knight Riders            0   \n",
       "\n",
       "   win_by_wickets player_of_match                                       venue  \\\n",
       "0               0     BB McCullum                       M Chinnaswamy Stadium   \n",
       "1               0      MEK Hussey  Punjab Cricket Association Stadium, Mohali   \n",
       "2               9     MF Maharoof                            Feroz Shah Kotla   \n",
       "3               5      MV Boucher                            Wankhede Stadium   \n",
       "4               5       DJ Hussey                                Eden Gardens   \n",
       "\n",
       "     umpire1         umpire2  umpire3  \n",
       "0  Asad Rauf     RE Koertzen      NaN  \n",
       "1  MR Benson      SL Shastri      NaN  \n",
       "2  Aleem Dar  GA Pratapkumar      NaN  \n",
       "3   SJ Davis       DJ Harper      NaN  \n",
       "4  BF Bowden     K Hariharan      NaN  "
      ]
     },
     "execution_count": 4,
     "metadata": {},
     "output_type": "execute_result"
    }
   ],
   "source": [
    "match_data.head()"
   ]
  },
  {
   "cell_type": "markdown",
   "metadata": {
    "id": "yeLex81FwNKW"
   },
   "source": [
    "### Let's show some Stats"
   ]
  },
  {
   "cell_type": "code",
   "execution_count": 5,
   "metadata": {
    "colab": {
     "base_uri": "https://localhost:8080/",
     "height": 34
    },
    "executionInfo": {
     "elapsed": 705,
     "status": "ok",
     "timestamp": 1603762755367,
     "user": {
      "displayName": "Rajeev Ratan",
      "photoUrl": "https://lh3.googleusercontent.com/a-/AOh14GhBYJnwdIGYSJdvGmzIt64rYSF1dDuiFyfRw4Rpeg=s64",
      "userId": "08597265227091462140"
     },
     "user_tz": 240
    },
    "id": "_-odbTJsyJGD",
    "outputId": "9fdc1095-f525-4e3f-d086-d0a0081b5c2e"
   },
   "outputs": [
    {
     "name": "stdout",
     "output_type": "stream",
     "text": [
      "Biggest Win Margin was 144 runs.\n"
     ]
    }
   ],
   "source": [
    "biggest_win = match_data['win_by_runs'].max()\n",
    "print(\"Biggest Win Margin was \" + str(biggest_win) + \" runs.\")\n",
    "\n",
    "teams_biggest_win = []"
   ]
  },
  {
   "cell_type": "code",
   "execution_count": 6,
   "metadata": {
    "colab": {
     "base_uri": "https://localhost:8080/",
     "height": 130
    },
    "executionInfo": {
     "elapsed": 684,
     "status": "ok",
     "timestamp": 1603762776774,
     "user": {
      "displayName": "Rajeev Ratan",
      "photoUrl": "https://lh3.googleusercontent.com/a-/AOh14GhBYJnwdIGYSJdvGmzIt64rYSF1dDuiFyfRw4Rpeg=s64",
      "userId": "08597265227091462140"
     },
     "user_tz": 240
    },
    "id": "desxQL47yJan",
    "outputId": "bffac290-7f5b-4eb1-c241-c5faabd36710"
   },
   "outputs": [
    {
     "data": {
      "text/html": [
       "<div>\n",
       "<style scoped>\n",
       "    .dataframe tbody tr th:only-of-type {\n",
       "        vertical-align: middle;\n",
       "    }\n",
       "\n",
       "    .dataframe tbody tr th {\n",
       "        vertical-align: top;\n",
       "    }\n",
       "\n",
       "    .dataframe thead th {\n",
       "        text-align: right;\n",
       "    }\n",
       "</style>\n",
       "<table border=\"1\" class=\"dataframe\">\n",
       "  <thead>\n",
       "    <tr style=\"text-align: right;\">\n",
       "      <th></th>\n",
       "      <th>id</th>\n",
       "      <th>season</th>\n",
       "      <th>city</th>\n",
       "      <th>date</th>\n",
       "      <th>team1</th>\n",
       "      <th>team2</th>\n",
       "      <th>toss_winner</th>\n",
       "      <th>toss_decision</th>\n",
       "      <th>result</th>\n",
       "      <th>dl_applied</th>\n",
       "      <th>winner</th>\n",
       "      <th>win_by_runs</th>\n",
       "      <th>win_by_wickets</th>\n",
       "      <th>player_of_match</th>\n",
       "      <th>venue</th>\n",
       "      <th>umpire1</th>\n",
       "      <th>umpire2</th>\n",
       "      <th>umpire3</th>\n",
       "    </tr>\n",
       "  </thead>\n",
       "  <tbody>\n",
       "    <tr>\n",
       "      <th>560</th>\n",
       "      <td>561</td>\n",
       "      <td>2016</td>\n",
       "      <td>Bangalore</td>\n",
       "      <td>2016-05-14</td>\n",
       "      <td>Royal Challengers Bangalore</td>\n",
       "      <td>Gujarat Lions</td>\n",
       "      <td>Gujarat Lions</td>\n",
       "      <td>field</td>\n",
       "      <td>normal</td>\n",
       "      <td>0</td>\n",
       "      <td>Royal Challengers Bangalore</td>\n",
       "      <td>144</td>\n",
       "      <td>0</td>\n",
       "      <td>AB de Villiers</td>\n",
       "      <td>M Chinnaswamy Stadium</td>\n",
       "      <td>AY Dandekar</td>\n",
       "      <td>VK Sharma</td>\n",
       "      <td>NaN</td>\n",
       "    </tr>\n",
       "  </tbody>\n",
       "</table>\n",
       "</div>"
      ],
      "text/plain": [
       "      id  season       city        date                        team1  \\\n",
       "560  561    2016  Bangalore  2016-05-14  Royal Challengers Bangalore   \n",
       "\n",
       "             team2    toss_winner toss_decision  result  dl_applied  \\\n",
       "560  Gujarat Lions  Gujarat Lions         field  normal           0   \n",
       "\n",
       "                          winner  win_by_runs  win_by_wickets player_of_match  \\\n",
       "560  Royal Challengers Bangalore          144               0  AB de Villiers   \n",
       "\n",
       "                     venue      umpire1    umpire2  umpire3  \n",
       "560  M Chinnaswamy Stadium  AY Dandekar  VK Sharma      NaN  "
      ]
     },
     "execution_count": 6,
     "metadata": {},
     "output_type": "execute_result"
    }
   ],
   "source": [
    "# Which game was this biggest win?\n",
    "f = match_data.loc[match_data['win_by_runs'] == biggest_win]\n",
    "f"
   ]
  },
  {
   "cell_type": "code",
   "execution_count": 7,
   "metadata": {
    "colab": {
     "base_uri": "https://localhost:8080/",
     "height": 101
    },
    "executionInfo": {
     "elapsed": 713,
     "status": "ok",
     "timestamp": 1603762812547,
     "user": {
      "displayName": "Rajeev Ratan",
      "photoUrl": "https://lh3.googleusercontent.com/a-/AOh14GhBYJnwdIGYSJdvGmzIt64rYSF1dDuiFyfRw4Rpeg=s64",
      "userId": "08597265227091462140"
     },
     "user_tz": 240
    },
    "id": "OWzdOH6yyJda",
    "outputId": "34c49037-9c98-4456-9151-99f8a18055e0"
   },
   "outputs": [
    {
     "data": {
      "text/plain": [
       "['2016',\n",
       " 'M Chinnaswamy Stadium',\n",
       " 'Royal Challengers Bangalore',\n",
       " 'Gujarat Lions',\n",
       " 'Royal Challengers Bangalore']"
      ]
     },
     "execution_count": 7,
     "metadata": {},
     "output_type": "execute_result"
    }
   ],
   "source": [
    "teams_biggest_win.append((str(f['season'].tolist()[0])))\n",
    "teams_biggest_win.append((str(f['venue'].tolist()[0])))\n",
    "teams_biggest_win.append(str(f['team1'].tolist()[0]))\n",
    "teams_biggest_win.append(str(f['team2'].tolist()[0]))\n",
    "teams_biggest_win.append(str(f['winner'].tolist()[0]))\n",
    "teams_biggest_win"
   ]
  },
  {
   "cell_type": "code",
   "execution_count": 8,
   "metadata": {
    "colab": {
     "base_uri": "https://localhost:8080/",
     "height": 480
    },
    "executionInfo": {
     "elapsed": 721,
     "status": "ok",
     "timestamp": 1603762827730,
     "user": {
      "displayName": "Rajeev Ratan",
      "photoUrl": "https://lh3.googleusercontent.com/a-/AOh14GhBYJnwdIGYSJdvGmzIt64rYSF1dDuiFyfRw4Rpeg=s64",
      "userId": "08597265227091462140"
     },
     "user_tz": 240
    },
    "id": "R33uyQpLyml_",
    "outputId": "5f7cd836-fa54-4ce5-9725-b081cf78da1f"
   },
   "outputs": [
    {
     "data": {
      "text/html": [
       "<div>\n",
       "<style scoped>\n",
       "    .dataframe tbody tr th:only-of-type {\n",
       "        vertical-align: middle;\n",
       "    }\n",
       "\n",
       "    .dataframe tbody tr th {\n",
       "        vertical-align: top;\n",
       "    }\n",
       "\n",
       "    .dataframe thead th {\n",
       "        text-align: right;\n",
       "    }\n",
       "</style>\n",
       "<table border=\"1\" class=\"dataframe\">\n",
       "  <thead>\n",
       "    <tr style=\"text-align: right;\">\n",
       "      <th></th>\n",
       "      <th>id</th>\n",
       "      <th>season</th>\n",
       "      <th>city</th>\n",
       "      <th>date</th>\n",
       "      <th>team1</th>\n",
       "      <th>team2</th>\n",
       "      <th>toss_winner</th>\n",
       "      <th>toss_decision</th>\n",
       "      <th>result</th>\n",
       "      <th>dl_applied</th>\n",
       "      <th>winner</th>\n",
       "      <th>win_by_runs</th>\n",
       "      <th>win_by_wickets</th>\n",
       "      <th>player_of_match</th>\n",
       "      <th>venue</th>\n",
       "      <th>umpire1</th>\n",
       "      <th>umpire2</th>\n",
       "      <th>umpire3</th>\n",
       "    </tr>\n",
       "  </thead>\n",
       "  <tbody>\n",
       "    <tr>\n",
       "      <th>66</th>\n",
       "      <td>67</td>\n",
       "      <td>2009</td>\n",
       "      <td>Cape Town</td>\n",
       "      <td>2009-04-23</td>\n",
       "      <td>Rajasthan Royals</td>\n",
       "      <td>Kolkata Knight Riders</td>\n",
       "      <td>Kolkata Knight Riders</td>\n",
       "      <td>field</td>\n",
       "      <td>tie</td>\n",
       "      <td>0</td>\n",
       "      <td>Rajasthan Royals</td>\n",
       "      <td>0</td>\n",
       "      <td>0</td>\n",
       "      <td>YK Pathan</td>\n",
       "      <td>Newlands</td>\n",
       "      <td>MR Benson</td>\n",
       "      <td>M Erasmus</td>\n",
       "      <td>NaN</td>\n",
       "    </tr>\n",
       "    <tr>\n",
       "      <th>130</th>\n",
       "      <td>131</td>\n",
       "      <td>2010</td>\n",
       "      <td>Chennai</td>\n",
       "      <td>2010-03-21</td>\n",
       "      <td>Kings XI Punjab</td>\n",
       "      <td>Chennai Super Kings</td>\n",
       "      <td>Chennai Super Kings</td>\n",
       "      <td>field</td>\n",
       "      <td>tie</td>\n",
       "      <td>0</td>\n",
       "      <td>Kings XI Punjab</td>\n",
       "      <td>0</td>\n",
       "      <td>0</td>\n",
       "      <td>J Theron</td>\n",
       "      <td>MA Chidambaram Stadium, Chepauk</td>\n",
       "      <td>K Hariharan</td>\n",
       "      <td>DJ Harper</td>\n",
       "      <td>NaN</td>\n",
       "    </tr>\n",
       "    <tr>\n",
       "      <th>328</th>\n",
       "      <td>329</td>\n",
       "      <td>2013</td>\n",
       "      <td>Hyderabad</td>\n",
       "      <td>2013-04-07</td>\n",
       "      <td>Royal Challengers Bangalore</td>\n",
       "      <td>Sunrisers Hyderabad</td>\n",
       "      <td>Royal Challengers Bangalore</td>\n",
       "      <td>bat</td>\n",
       "      <td>tie</td>\n",
       "      <td>0</td>\n",
       "      <td>Sunrisers Hyderabad</td>\n",
       "      <td>0</td>\n",
       "      <td>0</td>\n",
       "      <td>GH Vihari</td>\n",
       "      <td>Rajiv Gandhi International Stadium, Uppal</td>\n",
       "      <td>AK Chowdhary</td>\n",
       "      <td>S Ravi</td>\n",
       "      <td>NaN</td>\n",
       "    </tr>\n",
       "    <tr>\n",
       "      <th>341</th>\n",
       "      <td>342</td>\n",
       "      <td>2013</td>\n",
       "      <td>Bangalore</td>\n",
       "      <td>2013-04-16</td>\n",
       "      <td>Delhi Daredevils</td>\n",
       "      <td>Royal Challengers Bangalore</td>\n",
       "      <td>Royal Challengers Bangalore</td>\n",
       "      <td>field</td>\n",
       "      <td>tie</td>\n",
       "      <td>0</td>\n",
       "      <td>Royal Challengers Bangalore</td>\n",
       "      <td>0</td>\n",
       "      <td>0</td>\n",
       "      <td>V Kohli</td>\n",
       "      <td>M Chinnaswamy Stadium</td>\n",
       "      <td>M Erasmus</td>\n",
       "      <td>VA Kulkarni</td>\n",
       "      <td>NaN</td>\n",
       "    </tr>\n",
       "    <tr>\n",
       "      <th>416</th>\n",
       "      <td>417</td>\n",
       "      <td>2014</td>\n",
       "      <td>Abu Dhabi</td>\n",
       "      <td>2014-04-29</td>\n",
       "      <td>Rajasthan Royals</td>\n",
       "      <td>Kolkata Knight Riders</td>\n",
       "      <td>Rajasthan Royals</td>\n",
       "      <td>bat</td>\n",
       "      <td>tie</td>\n",
       "      <td>0</td>\n",
       "      <td>Rajasthan Royals</td>\n",
       "      <td>0</td>\n",
       "      <td>0</td>\n",
       "      <td>JP Faulkner</td>\n",
       "      <td>Sheikh Zayed Stadium</td>\n",
       "      <td>Aleem Dar</td>\n",
       "      <td>AK Chaudhary</td>\n",
       "      <td>NaN</td>\n",
       "    </tr>\n",
       "    <tr>\n",
       "      <th>476</th>\n",
       "      <td>477</td>\n",
       "      <td>2015</td>\n",
       "      <td>Ahmedabad</td>\n",
       "      <td>2015-04-21</td>\n",
       "      <td>Rajasthan Royals</td>\n",
       "      <td>Kings XI Punjab</td>\n",
       "      <td>Kings XI Punjab</td>\n",
       "      <td>field</td>\n",
       "      <td>tie</td>\n",
       "      <td>0</td>\n",
       "      <td>Kings XI Punjab</td>\n",
       "      <td>0</td>\n",
       "      <td>0</td>\n",
       "      <td>SE Marsh</td>\n",
       "      <td>Sardar Patel Stadium, Motera</td>\n",
       "      <td>M Erasmus</td>\n",
       "      <td>S Ravi</td>\n",
       "      <td>NaN</td>\n",
       "    </tr>\n",
       "  </tbody>\n",
       "</table>\n",
       "</div>"
      ],
      "text/plain": [
       "      id  season       city        date                        team1  \\\n",
       "66    67    2009  Cape Town  2009-04-23             Rajasthan Royals   \n",
       "130  131    2010    Chennai  2010-03-21              Kings XI Punjab   \n",
       "328  329    2013  Hyderabad  2013-04-07  Royal Challengers Bangalore   \n",
       "341  342    2013  Bangalore  2013-04-16             Delhi Daredevils   \n",
       "416  417    2014  Abu Dhabi  2014-04-29             Rajasthan Royals   \n",
       "476  477    2015  Ahmedabad  2015-04-21             Rajasthan Royals   \n",
       "\n",
       "                           team2                  toss_winner toss_decision  \\\n",
       "66         Kolkata Knight Riders        Kolkata Knight Riders         field   \n",
       "130          Chennai Super Kings          Chennai Super Kings         field   \n",
       "328          Sunrisers Hyderabad  Royal Challengers Bangalore           bat   \n",
       "341  Royal Challengers Bangalore  Royal Challengers Bangalore         field   \n",
       "416        Kolkata Knight Riders             Rajasthan Royals           bat   \n",
       "476              Kings XI Punjab              Kings XI Punjab         field   \n",
       "\n",
       "    result  dl_applied                       winner  win_by_runs  \\\n",
       "66     tie           0             Rajasthan Royals            0   \n",
       "130    tie           0              Kings XI Punjab            0   \n",
       "328    tie           0          Sunrisers Hyderabad            0   \n",
       "341    tie           0  Royal Challengers Bangalore            0   \n",
       "416    tie           0             Rajasthan Royals            0   \n",
       "476    tie           0              Kings XI Punjab            0   \n",
       "\n",
       "     win_by_wickets player_of_match  \\\n",
       "66                0       YK Pathan   \n",
       "130               0        J Theron   \n",
       "328               0       GH Vihari   \n",
       "341               0         V Kohli   \n",
       "416               0     JP Faulkner   \n",
       "476               0        SE Marsh   \n",
       "\n",
       "                                         venue       umpire1       umpire2  \\\n",
       "66                                    Newlands     MR Benson     M Erasmus   \n",
       "130            MA Chidambaram Stadium, Chepauk   K Hariharan     DJ Harper   \n",
       "328  Rajiv Gandhi International Stadium, Uppal  AK Chowdhary        S Ravi   \n",
       "341                      M Chinnaswamy Stadium     M Erasmus   VA Kulkarni   \n",
       "416                       Sheikh Zayed Stadium     Aleem Dar  AK Chaudhary   \n",
       "476               Sardar Patel Stadium, Motera     M Erasmus        S Ravi   \n",
       "\n",
       "     umpire3  \n",
       "66       NaN  \n",
       "130      NaN  \n",
       "328      NaN  \n",
       "341      NaN  \n",
       "416      NaN  \n",
       "476      NaN  "
      ]
     },
     "execution_count": 8,
     "metadata": {},
     "output_type": "execute_result"
    }
   ],
   "source": [
    "tie_matches_no = match_data.loc[match_data['result']=='tie']\n",
    "tie_matches_no"
   ]
  },
  {
   "cell_type": "code",
   "execution_count": 9,
   "metadata": {
    "_kg_hide-input": true,
    "executionInfo": {
     "elapsed": 743,
     "status": "ok",
     "timestamp": 1603762847614,
     "user": {
      "displayName": "Rajeev Ratan",
      "photoUrl": "https://lh3.googleusercontent.com/a-/AOh14GhBYJnwdIGYSJdvGmzIt64rYSF1dDuiFyfRw4Rpeg=s64",
      "userId": "08597265227091462140"
     },
     "user_tz": 240
    },
    "id": "iY3FZIFGwNKZ"
   },
   "outputs": [],
   "source": [
    "# Games where the Duckworth-Lewis system was used\n",
    "f = match_data.loc[match_data['dl_applied'] == 1]\n",
    "season_number = f['season'].value_counts()\n",
    "dl_stadium = f['venue'].value_counts()"
   ]
  },
  {
   "cell_type": "code",
   "execution_count": 10,
   "metadata": {
    "colab": {
     "base_uri": "https://localhost:8080/",
     "height": 185
    },
    "executionInfo": {
     "elapsed": 824,
     "status": "ok",
     "timestamp": 1603762899351,
     "user": {
      "displayName": "Rajeev Ratan",
      "photoUrl": "https://lh3.googleusercontent.com/a-/AOh14GhBYJnwdIGYSJdvGmzIt64rYSF1dDuiFyfRw4Rpeg=s64",
      "userId": "08597265227091462140"
     },
     "user_tz": 240
    },
    "id": "mwZzT4wDtvw7",
    "outputId": "3919d4e8-a46d-42a4-cc98-4c2c51a59dab"
   },
   "outputs": [
    {
     "name": "stdout",
     "output_type": "stream",
     "text": [
      "Eden Gardens                                           3\n",
      "Dr. Y.S. Rajasekhara Reddy ACA-VDCA Cricket Stadium    2\n",
      "Feroz Shah Kotla                                       2\n",
      "M Chinnaswamy Stadium                                  2\n",
      "Rajiv Gandhi International Stadium, Uppal              2\n",
      "SuperSport Park                                        1\n",
      "Kingsmead                                              1\n",
      "Newlands                                               1\n",
      "Nehru Stadium                                          1\n",
      "Name: venue, dtype: int64\n"
     ]
    }
   ],
   "source": [
    "print(dl_stadium)"
   ]
  },
  {
   "cell_type": "markdown",
   "metadata": {
    "id": "kJPeVlRSwNKc"
   },
   "source": [
    "### Some cool IPL Facts and Records"
   ]
  },
  {
   "cell_type": "markdown",
   "metadata": {
    "id": "2FNTYNaZwNKd"
   },
   "source": [
    "1. Biggest win in terms of run margin was witnessed in Season of **2017** where **Mumbai Indians** won by **146** runs against **Delhi Daredevils** at **Feroz Shah Kotla**\n",
    "2. From 2008 to 2017 only **7** Matches have Tied in **IPL**.\n",
    "3. Since 2008 to 2017 only **16** Matches have been Decided on Duckworth Lewis Method and in 2016 highest matches were decided by this System that counted to 4.\n",
    "4. **Eden Gardens** is the Venue where highest macthes have been Decided on DL Method (**3 each**)."
   ]
  },
  {
   "cell_type": "markdown",
   "metadata": {
    "id": "315QS0YfwNKd"
   },
   "source": [
    "### The 7 Most Popular Venues in the IPL from 2008 to 2017"
   ]
  },
  {
   "cell_type": "code",
   "execution_count": 11,
   "metadata": {
    "colab": {
     "base_uri": "https://localhost:8080/",
     "height": 622
    },
    "executionInfo": {
     "elapsed": 706,
     "status": "ok",
     "timestamp": 1603762959057,
     "user": {
      "displayName": "Rajeev Ratan",
      "photoUrl": "https://lh3.googleusercontent.com/a-/AOh14GhBYJnwdIGYSJdvGmzIt64rYSF1dDuiFyfRw4Rpeg=s64",
      "userId": "08597265227091462140"
     },
     "user_tz": 240
    },
    "id": "7lb24VpWuKta",
    "outputId": "3c922c3a-e261-43f7-c8a0-8a9a9b913587"
   },
   "outputs": [
    {
     "data": {
      "text/plain": [
       "M Chinnaswamy Stadium                                   58\n",
       "Eden Gardens                                            54\n",
       "Feroz Shah Kotla                                        53\n",
       "Wankhede Stadium                                        49\n",
       "MA Chidambaram Stadium, Chepauk                         48\n",
       "Rajiv Gandhi International Stadium, Uppal               41\n",
       "Punjab Cricket Association Stadium, Mohali              35\n",
       "Sawai Mansingh Stadium                                  33\n",
       "Subrata Roy Sahara Stadium                              17\n",
       "Dr DY Patil Sports Academy                              17\n",
       "Kingsmead                                               15\n",
       "Sardar Patel Stadium, Motera                            12\n",
       "SuperSport Park                                         12\n",
       "Brabourne Stadium                                       11\n",
       "Dr. Y.S. Rajasekhara Reddy ACA-VDCA Cricket Stadium     11\n",
       "Himachal Pradesh Cricket Association Stadium             9\n",
       "New Wanderers Stadium                                    8\n",
       "Maharashtra Cricket Association Stadium                  8\n",
       "Dubai International Cricket Stadium                      7\n",
       "Punjab Cricket Association IS Bindra Stadium, Mohali     7\n",
       "Newlands                                                 7\n",
       "Sheikh Zayed Stadium                                     7\n",
       "Barabati Stadium                                         7\n",
       "St George's Park                                         7\n",
       "JSCA International Stadium Complex                       7\n",
       "Shaheed Veer Narayan Singh International Stadium         6\n",
       "Sharjah Cricket Stadium                                  6\n",
       "Saurashtra Cricket Association Stadium                   5\n",
       "Nehru Stadium                                            5\n",
       "Buffalo Park                                             3\n",
       "Vidarbha Cricket Association Stadium, Jamtha             3\n",
       "De Beers Diamond Oval                                    3\n",
       "Green Park                                               2\n",
       "OUTsurance Oval                                          2\n",
       "Holkar Cricket Stadium                                   2\n",
       "Name: venue, dtype: int64"
      ]
     },
     "execution_count": 11,
     "metadata": {},
     "output_type": "execute_result"
    }
   ],
   "source": [
    "match_data['venue'].value_counts().sort_values(ascending=False)"
   ]
  },
  {
   "cell_type": "code",
   "execution_count": 12,
   "metadata": {
    "_kg_hide-input": true,
    "colab": {
     "base_uri": "https://localhost:8080/",
     "height": 603
    },
    "executionInfo": {
     "elapsed": 1015,
     "status": "ok",
     "timestamp": 1603763032611,
     "user": {
      "displayName": "Rajeev Ratan",
      "photoUrl": "https://lh3.googleusercontent.com/a-/AOh14GhBYJnwdIGYSJdvGmzIt64rYSF1dDuiFyfRw4Rpeg=s64",
      "userId": "08597265227091462140"
     },
     "user_tz": 240
    },
    "id": "RcwTKWLSwNKe",
    "outputId": "ac07eebd-cb4c-4e3f-86ab-42e1c8df1115"
   },
   "outputs": [
    {
     "name": "stderr",
     "output_type": "stream",
     "text": [
      "C:\\Users\\COM\\Anaconda3\\lib\\site-packages\\seaborn\\_decorators.py:43: FutureWarning: Pass the following variables as keyword args: x, y. From version 0.12, the only valid positional argument will be `data`, and passing other arguments without an explicit keyword will result in an error or misinterpretation.\n",
      "  FutureWarning\n"
     ]
    },
    {
     "data": {
      "image/png": "[encoded data removed]",
      "text/plain": [
       "<Figure size 1440x432 with 1 Axes>"
      ]
     },
     "metadata": {},
     "output_type": "display_data"
    }
   ],
   "source": [
    "sns.set_style(\"darkgrid\")# to make background with grid\n",
    "ls=match_data['venue'].value_counts().sort_values(ascending=False)\n",
    "ls=ls[:10]\n",
    "plt.figure(figsize=(20,6))\n",
    "Most_Played =sns.barplot(ls.index, ls.values, alpha=0.8)\n",
    "\n",
    "plt.title('Most Played venue')\n",
    "plt.ylabel('Count', fontsize=12)\n",
    "plt.xlabel('Name of the stadiums', fontsize=15)\n",
    "Most_Played.set_xticklabels(rotation=30,labels=ls.index,fontsize=10)\n",
    "plt.show()\n"
   ]
  },
  {
   "cell_type": "markdown",
   "metadata": {
    "id": "WsvVSm-cwNKg"
   },
   "source": [
    "This shows **M Chinnaswamy stadium** has hosted most matches in the History of IPL"
   ]
  },
  {
   "cell_type": "markdown",
   "metadata": {
    "id": "O9jCJdrRwNKh"
   },
   "source": [
    "# 2. Visualizations - Match Statistics\n",
    "## Player with the most 'Man of the Matches' across 9 Seasons"
   ]
  },
  {
   "cell_type": "code",
   "execution_count": 13,
   "metadata": {
    "colab": {
     "base_uri": "https://localhost:8080/",
     "height": 202
    },
    "executionInfo": {
     "elapsed": 832,
     "status": "ok",
     "timestamp": 1603763217287,
     "user": {
      "displayName": "Rajeev Ratan",
      "photoUrl": "https://lh3.googleusercontent.com/a-/AOh14GhBYJnwdIGYSJdvGmzIt64rYSF1dDuiFyfRw4Rpeg=s64",
      "userId": "08597265227091462140"
     },
     "user_tz": 240
    },
    "id": "7WEm77gquzwU",
    "outputId": "196bb7bc-71c8-4c53-fee0-1be8e1e4d5d0"
   },
   "outputs": [
    {
     "data": {
      "text/plain": [
       "CH Gayle          17\n",
       "YK Pathan         16\n",
       "AB de Villiers    15\n",
       "DA Warner         14\n",
       "RG Sharma         13\n",
       "SK Raina          13\n",
       "MEK Hussey        12\n",
       "MS Dhoni          12\n",
       "AM Rahane         12\n",
       "G Gambhir         12\n",
       "Name: player_of_match, dtype: int64"
      ]
     },
     "execution_count": 13,
     "metadata": {},
     "output_type": "execute_result"
    }
   ],
   "source": [
    "match_data['player_of_match'].value_counts().head(10)"
   ]
  },
  {
   "cell_type": "code",
   "execution_count": 18,
   "metadata": {
    "_kg_hide-input": true,
    "colab": {
     "base_uri": "https://localhost:8080/",
     "height": 547
    },
    "executionInfo": {
     "elapsed": 1420,
     "status": "ok",
     "timestamp": 1603763281077,
     "user": {
      "displayName": "Rajeev Ratan",
      "photoUrl": "https://lh3.googleusercontent.com/a-/AOh14GhBYJnwdIGYSJdvGmzIt64rYSF1dDuiFyfRw4Rpeg=s64",
      "userId": "08597265227091462140"
     },
     "user_tz": 240
    },
    "id": "MhlUw0PAwNKh",
    "outputId": "9cdc195b-b4a8-414a-c877-c7e20657b9b7"
   },
   "outputs": [
    {
     "name": "stderr",
     "output_type": "stream",
     "text": [
      "/usr/local/lib/python3.6/dist-packages/seaborn/_decorators.py:43: FutureWarning:\n",
      "\n",
      "Pass the following variables as keyword args: x, y. From version 0.12, the only valid positional argument will be `data`, and passing other arguments without an explicit keyword will result in an error or misinterpretation.\n",
      "\n"
     ]
    },
    {
     "data": {
      "image/png": "[encoded data removed]",
      "text/plain": [
       "<Figure size 1440x432 with 1 Axes>"
      ]
     },
     "metadata": {
      "tags": []
     },
     "output_type": "display_data"
    }
   ],
   "source": [
    "man_of_match = match_data['player_of_match'].value_counts()\n",
    "man_of_match = man_of_match[:10]\n",
    "sns.set_style(\"darkgrid\")\n",
    "plt.figure(figsize=(20,6))\n",
    "man_of_matches = sns.barplot(man_of_match.index, man_of_match.values, alpha=0.8,palette='winter')\n",
    "plt.title('Most Player Of The Match')\n",
    "plt.ylabel('Count', fontsize=12)\n",
    "plt.xlabel('player_of_match', fontsize=12)\n",
    "man_of_matches.set_xticklabels(rotation=30,labels=man_of_match.index,fontsize=15)\n",
    "plt.show()"
   ]
  },
  {
   "cell_type": "markdown",
   "metadata": {
    "id": "Co59ORo0wNKk"
   },
   "source": [
    "**Chris Gayle** has recived most man of the matches from 2008 to 2017"
   ]
  },
  {
   "cell_type": "markdown",
   "metadata": {
    "id": "kfGe6u3OwNKk"
   },
   "source": [
    "# Matches Played across each season"
   ]
  },
  {
   "cell_type": "code",
   "execution_count": 14,
   "metadata": {
    "_kg_hide-input": true,
    "colab": {
     "base_uri": "https://localhost:8080/",
     "height": 414
    },
    "executionInfo": {
     "elapsed": 811,
     "status": "ok",
     "timestamp": 1603763314695,
     "user": {
      "displayName": "Rajeev Ratan",
      "photoUrl": "https://lh3.googleusercontent.com/a-/AOh14GhBYJnwdIGYSJdvGmzIt64rYSF1dDuiFyfRw4Rpeg=s64",
      "userId": "08597265227091462140"
     },
     "user_tz": 240
    },
    "id": "vmOEfMp6wNKl",
    "outputId": "2c1cacb5-7dad-4ae9-a2af-641963620afa"
   },
   "outputs": [
    {
     "data": {
      "text/plain": [
       "Text(0.5, 0, 'Season')"
      ]
     },
     "execution_count": 14,
     "metadata": {},
     "output_type": "execute_result"
    },
    {
     "data": {
      "image/png": "[encoded data removed]",
      "text/plain": [
       "<Figure size 1440x432 with 1 Axes>"
      ]
     },
     "metadata": {},
     "output_type": "display_data"
    }
   ],
   "source": [
    "plt.figure(figsize=(20,6))\n",
    "season=sns.countplot(x='season',data=match_data)\n",
    "plt.xlabel('Season',fontsize=20)"
   ]
  },
  {
   "cell_type": "markdown",
   "metadata": {
    "id": "wLNjmg4AwNKn"
   },
   "source": [
    "This Shows Most Matches were played in the **2013** Season"
   ]
  },
  {
   "cell_type": "markdown",
   "metadata": {
    "id": "jHEzK_PqwNKo"
   },
   "source": [
    "# Most Favourite Umpires"
   ]
  },
  {
   "cell_type": "code",
   "execution_count": 15,
   "metadata": {
    "_kg_hide-input": true,
    "colab": {
     "base_uri": "https://localhost:8080/",
     "height": 530
    },
    "executionInfo": {
     "elapsed": 1024,
     "status": "ok",
     "timestamp": 1603763380554,
     "user": {
      "displayName": "Rajeev Ratan",
      "photoUrl": "https://lh3.googleusercontent.com/a-/AOh14GhBYJnwdIGYSJdvGmzIt64rYSF1dDuiFyfRw4Rpeg=s64",
      "userId": "08597265227091462140"
     },
     "user_tz": 240
    },
    "id": "_w4JGD_uwNKo",
    "outputId": "bc818645-1d2b-4812-b096-3de9a2a0cf0b"
   },
   "outputs": [
    {
     "data": {
      "image/png": "[encoded data removed]",
      "text/plain": [
       "<Figure size 720x360 with 1 Axes>"
      ]
     },
     "metadata": {},
     "output_type": "display_data"
    }
   ],
   "source": [
    "ump=pd.concat([match_data['umpire1'],match_data['umpire2']]).value_counts().sort_values(ascending=False)\n",
    "ump=ump[:10]\n",
    "plt.figure(figsize=(10,5))\n",
    "Most_umpired =sns.barplot(x=ump.index, y=ump.values, alpha=0.9)\n",
    "plt.title('Favorite umpire')\n",
    "plt.ylabel('Count', fontsize=12)\n",
    "plt.xlabel('Name of the Umpire', fontsize=15)\n",
    "Most_umpired.set_xticklabels(rotation=70,labels=ump.index,fontsize=20)\n",
    "plt.show()\n",
    "\n",
    "\n"
   ]
  },
  {
   "cell_type": "markdown",
   "metadata": {
    "id": "3FFBaMRjwNKq"
   },
   "source": [
    "This shows that **Dharamsena** and **S Ravi** were the favourite Umpires.\n"
   ]
  },
  {
   "cell_type": "markdown",
   "metadata": {
    "id": "sjof8rQhwNKr"
   },
   "source": [
    "# Stadium Wise Analysis for Most Played 6 Venues"
   ]
  },
  {
   "cell_type": "markdown",
   "metadata": {
    "id": "gjKt91AAwNKr"
   },
   "source": [
    "##  *Feroz Shah Kotla*"
   ]
  },
  {
   "cell_type": "code",
   "execution_count": 16,
   "metadata": {
    "_kg_hide-input": true,
    "colab": {
     "base_uri": "https://localhost:8080/",
     "height": 248
    },
    "executionInfo": {
     "elapsed": 1281,
     "status": "ok",
     "timestamp": 1603763505751,
     "user": {
      "displayName": "Rajeev Ratan",
      "photoUrl": "https://lh3.googleusercontent.com/a-/AOh14GhBYJnwdIGYSJdvGmzIt64rYSF1dDuiFyfRw4Rpeg=s64",
      "userId": "08597265227091462140"
     },
     "user_tz": 240
    },
    "id": "8ZzFRGCEwNKs",
    "outputId": "b9143220-b2f3-4d1f-ca25-c36cee1e99b1"
   },
   "outputs": [
    {
     "data": {
      "image/png": "[encoded data removed]",
      "text/plain": [
       "<Figure size 432x288 with 1 Axes>"
      ]
     },
     "metadata": {},
     "output_type": "display_data"
    }
   ],
   "source": [
    "Delhi_stadium=match_data.loc[(match_data['venue']=='Feroz Shah Kotla') ]\n",
    "# Teams batting first won\n",
    "Delhi_stadium_win_by_runs=Delhi_stadium[Delhi_stadium['win_by_runs']>0]# As it is  win by runs this depicts Team batting First Has Won the match\n",
    "slices=[len(Delhi_stadium_win_by_runs),len(Delhi_stadium)-len(Delhi_stadium_win_by_runs)]\n",
    "labels=['Batting first','Batting Second']\n",
    "plt.pie(slices,labels=labels,startangle=90,shadow=1,explode=(0,0.4),autopct='%1.2f%%',colors=['#bf00ff','#66CDAA'])\n",
    "plt.show()"
   ]
  },
  {
   "cell_type": "markdown",
   "metadata": {
    "id": "rJPCX2SVwNKu"
   },
   "source": [
    "This Shows that **Batting Second** is Slightly Preferrable on **Feroz Shah Kotla**"
   ]
  },
  {
   "cell_type": "markdown",
   "metadata": {
    "id": "28aYCYh7wNKv"
   },
   "source": [
    "##  *Eden Gardens*"
   ]
  },
  {
   "cell_type": "code",
   "execution_count": 17,
   "metadata": {
    "_kg_hide-input": true,
    "colab": {
     "base_uri": "https://localhost:8080/",
     "height": 248
    },
    "executionInfo": {
     "elapsed": 770,
     "status": "ok",
     "timestamp": 1603763515824,
     "user": {
      "displayName": "Rajeev Ratan",
      "photoUrl": "https://lh3.googleusercontent.com/a-/AOh14GhBYJnwdIGYSJdvGmzIt64rYSF1dDuiFyfRw4Rpeg=s64",
      "userId": "08597265227091462140"
     },
     "user_tz": 240
    },
    "id": "q3597ALWwNKv",
    "outputId": "f3b3b2ba-f9af-4f95-9106-4f593aafa8e7"
   },
   "outputs": [
    {
     "data": {
      "image/png": "[encoded data removed]",
      "text/plain": [
       "<Figure size 432x288 with 1 Axes>"
      ]
     },
     "metadata": {},
     "output_type": "display_data"
    }
   ],
   "source": [
    "Kolkata_stadium=match_data.loc[(match_data['venue']=='Eden Gardens') ]\n",
    "Kolkata_stadium_win_by_runs=Kolkata_stadium[Kolkata_stadium['win_by_runs']>0]# As it is  win by runs this depicts Team batting First Has Won the match\n",
    "slices=[len(Kolkata_stadium_win_by_runs),len(Kolkata_stadium)-len(Kolkata_stadium_win_by_runs)]\n",
    "labels=['Batting first','Batting Second']\n",
    "plt.pie(slices,labels=labels,startangle=90,shadow=1,explode=(0,0.4),autopct='%1.2f%%',colors=['#00bfff','#00ff00'])\n",
    "plt.show()"
   ]
  },
  {
   "cell_type": "markdown",
   "metadata": {
    "id": "yOvR3bEhwNKx"
   },
   "source": [
    "Batting Second on **Eden Gardens** is Clearly Favourable"
   ]
  },
  {
   "cell_type": "markdown",
   "metadata": {
    "id": "nGZXDVVVwNKy"
   },
   "source": [
    "## *Wankhede Stadium*"
   ]
  },
  {
   "cell_type": "code",
   "execution_count": 18,
   "metadata": {
    "_kg_hide-input": true,
    "colab": {
     "base_uri": "https://localhost:8080/",
     "height": 248
    },
    "executionInfo": {
     "elapsed": 948,
     "status": "ok",
     "timestamp": 1603763530125,
     "user": {
      "displayName": "Rajeev Ratan",
      "photoUrl": "https://lh3.googleusercontent.com/a-/AOh14GhBYJnwdIGYSJdvGmzIt64rYSF1dDuiFyfRw4Rpeg=s64",
      "userId": "08597265227091462140"
     },
     "user_tz": 240
    },
    "id": "MG05WrAzwNKy",
    "outputId": "e33d3a7e-7d9d-4b92-8ec0-0dfc8fc5b6f6"
   },
   "outputs": [
    {
     "data": {
      "image/png": "[encoded data removed]",
      "text/plain": [
       "<Figure size 432x288 with 1 Axes>"
      ]
     },
     "metadata": {},
     "output_type": "display_data"
    }
   ],
   "source": [
    "Mumbai_stadium=match_data.loc[(match_data['venue']=='Wankhede Stadium') ]\n",
    "Mumbai_stadium_win_by_runs=Mumbai_stadium[Mumbai_stadium['win_by_runs']>0]# As it is  win by runs this depicts Team batting First Has Won the match\n",
    "slices=[len(Mumbai_stadium_win_by_runs),len(Mumbai_stadium)-len(Mumbai_stadium_win_by_runs)]\n",
    "labels=['Batting first','Batting Second']\n",
    "plt.pie(slices,labels=labels,startangle=90,shadow=1,explode=(0,0.4),autopct='%1.2f%%',colors=['#00bfff','#00ff00'])\n",
    "plt.show()"
   ]
  },
  {
   "cell_type": "markdown",
   "metadata": {
    "id": "U7J0hHE0wNK0"
   },
   "source": [
    "This shows it's almost equal if a Teams Bat's First or Bowl's First at **Wankhede Stadium**"
   ]
  },
  {
   "cell_type": "markdown",
   "metadata": {
    "id": "iwfxvQOvwNK1"
   },
   "source": [
    "## *M Chinnaswamy Stadium*"
   ]
  },
  {
   "cell_type": "code",
   "execution_count": 19,
   "metadata": {
    "_kg_hide-input": true,
    "colab": {
     "base_uri": "https://localhost:8080/",
     "height": 248
    },
    "executionInfo": {
     "elapsed": 1428,
     "status": "ok",
     "timestamp": 1603763537132,
     "user": {
      "displayName": "Rajeev Ratan",
      "photoUrl": "https://lh3.googleusercontent.com/a-/AOh14GhBYJnwdIGYSJdvGmzIt64rYSF1dDuiFyfRw4Rpeg=s64",
      "userId": "08597265227091462140"
     },
     "user_tz": 240
    },
    "id": "l6imPL5EwNK1",
    "outputId": "2d7999d0-ade1-4c2c-c4e5-0b432d552f7c"
   },
   "outputs": [
    {
     "data": {
      "image/png": "[encoded data removed]",
      "text/plain": [
       "<Figure size 432x288 with 1 Axes>"
      ]
     },
     "metadata": {},
     "output_type": "display_data"
    }
   ],
   "source": [
    "M_Chinnaswamy_Stadium=match_data.loc[(match_data['venue']=='M Chinnaswamy Stadium') ]\n",
    "M_Chinnaswamy_Stadium_win_by_runs=M_Chinnaswamy_Stadium[M_Chinnaswamy_Stadium['win_by_runs']>0]# As it is  win by runs this depicts Team batting First Has Won the match\n",
    "slices=[len(M_Chinnaswamy_Stadium_win_by_runs),len(M_Chinnaswamy_Stadium)-len(M_Chinnaswamy_Stadium_win_by_runs)]\n",
    "labels=['Batting first','Batting Second']\n",
    "plt.pie(slices,labels=labels,startangle=90,shadow=1,explode=(0,0.4),autopct='%1.2f%%',colors=['#99ff99','#ffcc99'])\n",
    "plt.show()"
   ]
  },
  {
   "cell_type": "markdown",
   "metadata": {
    "id": "avs3qp-3wNK3"
   },
   "source": [
    "Batting Second on **M Chinnaswamy Stadium** has Better win Percentage"
   ]
  },
  {
   "cell_type": "markdown",
   "metadata": {
    "id": "1HkUKkGswNK4"
   },
   "source": [
    "## *MA Chidambaram Stadium, Chepauk*"
   ]
  },
  {
   "cell_type": "code",
   "execution_count": 20,
   "metadata": {
    "_kg_hide-input": true,
    "colab": {
     "base_uri": "https://localhost:8080/",
     "height": 248
    },
    "executionInfo": {
     "elapsed": 1296,
     "status": "ok",
     "timestamp": 1603763543709,
     "user": {
      "displayName": "Rajeev Ratan",
      "photoUrl": "https://lh3.googleusercontent.com/a-/AOh14GhBYJnwdIGYSJdvGmzIt64rYSF1dDuiFyfRw4Rpeg=s64",
      "userId": "08597265227091462140"
     },
     "user_tz": 240
    },
    "id": "1JcjewvdwNK4",
    "outputId": "9413edb7-9669-483e-d537-41772d4471ce"
   },
   "outputs": [
    {
     "data": {
      "image/png": "[encoded data removed]",
      "text/plain": [
       "<Figure size 432x288 with 1 Axes>"
      ]
     },
     "metadata": {},
     "output_type": "display_data"
    }
   ],
   "source": [
    "\n",
    "Chennai_stadium=match_data.loc[(match_data['venue']=='MA Chidambaram Stadium, Chepauk') ]\n",
    "Chennai_stadium_win_by_runs=Chennai_stadium[Chennai_stadium['win_by_runs']>0]# As it is  win by runs this depicts Team batting First Has Won the match\n",
    "slices=[len(Chennai_stadium_win_by_runs),len(Chennai_stadium)-len(Chennai_stadium_win_by_runs)]\n",
    "labels=['Batting first','Batting Second']\n",
    "plt.pie(slices,labels=labels,startangle=90,shadow=1,explode=(0,0.4),autopct='%1.2f%%',colors=['#00ffbf','#00ff00'])\n",
    "plt.show()"
   ]
  },
  {
   "cell_type": "markdown",
   "metadata": {
    "id": "PD7512_KwNK6"
   },
   "source": [
    "Batting Fisrt at **MA Chidambaram Stadium, Chepauk** is clearly a Good Option"
   ]
  },
  {
   "cell_type": "markdown",
   "metadata": {
    "id": "I0zcLoL7wNK7"
   },
   "source": [
    "# 3.  A Deep Analysis of the Games in 2016  "
   ]
  },
  {
   "cell_type": "markdown",
   "metadata": {
    "id": "dmgBTu6NwNK7"
   },
   "source": [
    "Is **Toss Winner** Also the Match Winner? For the year 2016"
   ]
  },
  {
   "cell_type": "code",
   "execution_count": 21,
   "metadata": {
    "colab": {
     "base_uri": "https://localhost:8080/",
     "height": 34
    },
    "executionInfo": {
     "elapsed": 783,
     "status": "ok",
     "timestamp": 1603764372580,
     "user": {
      "displayName": "Rajeev Ratan",
      "photoUrl": "https://lh3.googleusercontent.com/a-/AOh14GhBYJnwdIGYSJdvGmzIt64rYSF1dDuiFyfRw4Rpeg=s64",
      "userId": "08597265227091462140"
     },
     "user_tz": 240
    },
    "id": "LFn4cSAf0Js_",
    "outputId": "e7410aea-a137-4e58-d3bd-413f8595f7b7"
   },
   "outputs": [
    {
     "data": {
      "text/plain": [
       "60"
      ]
     },
     "execution_count": 21,
     "metadata": {},
     "output_type": "execute_result"
    }
   ],
   "source": [
    "len(match_data[match_data['season']==2016])"
   ]
  },
  {
   "cell_type": "code",
   "execution_count": 22,
   "metadata": {
    "colab": {
     "base_uri": "https://localhost:8080/",
     "height": 400
    },
    "executionInfo": {
     "elapsed": 770,
     "status": "ok",
     "timestamp": 1603764407896,
     "user": {
      "displayName": "Rajeev Ratan",
      "photoUrl": "https://lh3.googleusercontent.com/a-/AOh14GhBYJnwdIGYSJdvGmzIt64rYSF1dDuiFyfRw4Rpeg=s64",
      "userId": "08597265227091462140"
     },
     "user_tz": 240
    },
    "id": "bTQrsMcexXLj",
    "outputId": "cc926e76-4c49-47a1-8058-e9369d4527c8"
   },
   "outputs": [
    {
     "name": "stdout",
     "output_type": "stream",
     "text": [
      "34\n"
     ]
    },
    {
     "data": {
      "text/html": [
       "<div>\n",
       "<style scoped>\n",
       "    .dataframe tbody tr th:only-of-type {\n",
       "        vertical-align: middle;\n",
       "    }\n",
       "\n",
       "    .dataframe tbody tr th {\n",
       "        vertical-align: top;\n",
       "    }\n",
       "\n",
       "    .dataframe thead th {\n",
       "        text-align: right;\n",
       "    }\n",
       "</style>\n",
       "<table border=\"1\" class=\"dataframe\">\n",
       "  <thead>\n",
       "    <tr style=\"text-align: right;\">\n",
       "      <th></th>\n",
       "      <th>id</th>\n",
       "      <th>season</th>\n",
       "      <th>city</th>\n",
       "      <th>date</th>\n",
       "      <th>team1</th>\n",
       "      <th>team2</th>\n",
       "      <th>toss_winner</th>\n",
       "      <th>toss_decision</th>\n",
       "      <th>result</th>\n",
       "      <th>dl_applied</th>\n",
       "      <th>winner</th>\n",
       "      <th>win_by_runs</th>\n",
       "      <th>win_by_wickets</th>\n",
       "      <th>player_of_match</th>\n",
       "      <th>venue</th>\n",
       "      <th>umpire1</th>\n",
       "      <th>umpire2</th>\n",
       "      <th>umpire3</th>\n",
       "    </tr>\n",
       "  </thead>\n",
       "  <tbody>\n",
       "    <tr>\n",
       "      <th>518</th>\n",
       "      <td>519</td>\n",
       "      <td>2016</td>\n",
       "      <td>Kolkata</td>\n",
       "      <td>2016-04-10</td>\n",
       "      <td>Delhi Daredevils</td>\n",
       "      <td>Kolkata Knight Riders</td>\n",
       "      <td>Kolkata Knight Riders</td>\n",
       "      <td>field</td>\n",
       "      <td>normal</td>\n",
       "      <td>0</td>\n",
       "      <td>Kolkata Knight Riders</td>\n",
       "      <td>0</td>\n",
       "      <td>9</td>\n",
       "      <td>AD Russell</td>\n",
       "      <td>Eden Gardens</td>\n",
       "      <td>S Ravi</td>\n",
       "      <td>C Shamshuddin</td>\n",
       "      <td>NaN</td>\n",
       "    </tr>\n",
       "    <tr>\n",
       "      <th>519</th>\n",
       "      <td>520</td>\n",
       "      <td>2016</td>\n",
       "      <td>Chandigarh</td>\n",
       "      <td>2016-04-11</td>\n",
       "      <td>Kings XI Punjab</td>\n",
       "      <td>Gujarat Lions</td>\n",
       "      <td>Gujarat Lions</td>\n",
       "      <td>field</td>\n",
       "      <td>normal</td>\n",
       "      <td>0</td>\n",
       "      <td>Gujarat Lions</td>\n",
       "      <td>0</td>\n",
       "      <td>5</td>\n",
       "      <td>AJ Finch</td>\n",
       "      <td>Punjab Cricket Association IS Bindra Stadium, ...</td>\n",
       "      <td>AK Chaudhary</td>\n",
       "      <td>VA Kulkarni</td>\n",
       "      <td>NaN</td>\n",
       "    </tr>\n",
       "    <tr>\n",
       "      <th>521</th>\n",
       "      <td>522</td>\n",
       "      <td>2016</td>\n",
       "      <td>Kolkata</td>\n",
       "      <td>2016-04-13</td>\n",
       "      <td>Kolkata Knight Riders</td>\n",
       "      <td>Mumbai Indians</td>\n",
       "      <td>Mumbai Indians</td>\n",
       "      <td>field</td>\n",
       "      <td>normal</td>\n",
       "      <td>0</td>\n",
       "      <td>Mumbai Indians</td>\n",
       "      <td>0</td>\n",
       "      <td>6</td>\n",
       "      <td>RG Sharma</td>\n",
       "      <td>Eden Gardens</td>\n",
       "      <td>Nitin Menon</td>\n",
       "      <td>S Ravi</td>\n",
       "      <td>NaN</td>\n",
       "    </tr>\n",
       "    <tr>\n",
       "      <th>523</th>\n",
       "      <td>524</td>\n",
       "      <td>2016</td>\n",
       "      <td>Delhi</td>\n",
       "      <td>2016-04-15</td>\n",
       "      <td>Kings XI Punjab</td>\n",
       "      <td>Delhi Daredevils</td>\n",
       "      <td>Delhi Daredevils</td>\n",
       "      <td>field</td>\n",
       "      <td>normal</td>\n",
       "      <td>0</td>\n",
       "      <td>Delhi Daredevils</td>\n",
       "      <td>0</td>\n",
       "      <td>8</td>\n",
       "      <td>A Mishra</td>\n",
       "      <td>Feroz Shah Kotla</td>\n",
       "      <td>S Ravi</td>\n",
       "      <td>C Shamshuddin</td>\n",
       "      <td>NaN</td>\n",
       "    </tr>\n",
       "    <tr>\n",
       "      <th>525</th>\n",
       "      <td>526</td>\n",
       "      <td>2016</td>\n",
       "      <td>Mumbai</td>\n",
       "      <td>2016-04-16</td>\n",
       "      <td>Mumbai Indians</td>\n",
       "      <td>Gujarat Lions</td>\n",
       "      <td>Gujarat Lions</td>\n",
       "      <td>field</td>\n",
       "      <td>normal</td>\n",
       "      <td>0</td>\n",
       "      <td>Gujarat Lions</td>\n",
       "      <td>0</td>\n",
       "      <td>3</td>\n",
       "      <td>AJ Finch</td>\n",
       "      <td>Wankhede Stadium</td>\n",
       "      <td>HDPK Dharmasena</td>\n",
       "      <td>VK Sharma</td>\n",
       "      <td>NaN</td>\n",
       "    </tr>\n",
       "  </tbody>\n",
       "</table>\n",
       "</div>"
      ],
      "text/plain": [
       "      id  season        city        date                  team1  \\\n",
       "518  519    2016     Kolkata  2016-04-10       Delhi Daredevils   \n",
       "519  520    2016  Chandigarh  2016-04-11        Kings XI Punjab   \n",
       "521  522    2016     Kolkata  2016-04-13  Kolkata Knight Riders   \n",
       "523  524    2016       Delhi  2016-04-15        Kings XI Punjab   \n",
       "525  526    2016      Mumbai  2016-04-16         Mumbai Indians   \n",
       "\n",
       "                     team2            toss_winner toss_decision  result  \\\n",
       "518  Kolkata Knight Riders  Kolkata Knight Riders         field  normal   \n",
       "519          Gujarat Lions          Gujarat Lions         field  normal   \n",
       "521         Mumbai Indians         Mumbai Indians         field  normal   \n",
       "523       Delhi Daredevils       Delhi Daredevils         field  normal   \n",
       "525          Gujarat Lions          Gujarat Lions         field  normal   \n",
       "\n",
       "     dl_applied                 winner  win_by_runs  win_by_wickets  \\\n",
       "518           0  Kolkata Knight Riders            0               9   \n",
       "519           0          Gujarat Lions            0               5   \n",
       "521           0         Mumbai Indians            0               6   \n",
       "523           0       Delhi Daredevils            0               8   \n",
       "525           0          Gujarat Lions            0               3   \n",
       "\n",
       "    player_of_match                                              venue  \\\n",
       "518      AD Russell                                       Eden Gardens   \n",
       "519        AJ Finch  Punjab Cricket Association IS Bindra Stadium, ...   \n",
       "521       RG Sharma                                       Eden Gardens   \n",
       "523        A Mishra                                   Feroz Shah Kotla   \n",
       "525        AJ Finch                                   Wankhede Stadium   \n",
       "\n",
       "             umpire1        umpire2  umpire3  \n",
       "518           S Ravi  C Shamshuddin      NaN  \n",
       "519     AK Chaudhary    VA Kulkarni      NaN  \n",
       "521      Nitin Menon         S Ravi      NaN  \n",
       "523           S Ravi  C Shamshuddin      NaN  \n",
       "525  HDPK Dharmasena      VK Sharma      NaN  "
      ]
     },
     "execution_count": 22,
     "metadata": {},
     "output_type": "execute_result"
    }
   ],
   "source": [
    "match_2016 = match_data[match_data['season'] == 2016]\n",
    "print(len(match_2016[match_2016['toss_winner'] == match_2016['winner']]))\n",
    "match_2016[match_2016['toss_winner'] == match_2016['winner']].head()"
   ]
  },
  {
   "cell_type": "code",
   "execution_count": 23,
   "metadata": {
    "_kg_hide-input": true,
    "colab": {
     "base_uri": "https://localhost:8080/",
     "height": 248
    },
    "executionInfo": {
     "elapsed": 904,
     "status": "ok",
     "timestamp": 1603764440467,
     "user": {
      "displayName": "Rajeev Ratan",
      "photoUrl": "https://lh3.googleusercontent.com/a-/AOh14GhBYJnwdIGYSJdvGmzIt64rYSF1dDuiFyfRw4Rpeg=s64",
      "userId": "08597265227091462140"
     },
     "user_tz": 240
    },
    "id": "vp5XWQhQwNK7",
    "outputId": "b5595232-8da0-49ef-ff65-22b59de83ef7"
   },
   "outputs": [
    {
     "data": {
      "image/png": "[encoded data removed]",
      "text/plain": [
       "<Figure size 432x288 with 1 Axes>"
      ]
     },
     "metadata": {},
     "output_type": "display_data"
    }
   ],
   "source": [
    "match_2016 = match_data[match_data['season'] == 2016]\n",
    "df = match_2016[match_2016['toss_winner'] == match_2016['winner']]\n",
    "\n",
    "# because total of 60 matches were played in 2016\n",
    "slices = [len(df), (60-len(df))] \n",
    "labels = ['yes','no']\n",
    "plt.pie(slices,labels=labels,startangle=90,shadow=True,explode=(0,0.05),autopct='%1.2f%%',colors=['#99ff99','#ffcc99'])\n",
    "plt.show()"
   ]
  },
  {
   "cell_type": "markdown",
   "metadata": {
    "id": "L9JrB9X4wNK9"
   },
   "source": [
    "**YES**, In 2016 if a team won the **toss** they had slightly better chances to win the match"
   ]
  },
  {
   "cell_type": "markdown",
   "metadata": {
    "id": "M1B7RB6hwNK-"
   },
   "source": [
    "Trends in 2016 after **winning the toss**."
   ]
  },
  {
   "cell_type": "code",
   "execution_count": 24,
   "metadata": {
    "_kg_hide-input": true,
    "colab": {
     "base_uri": "https://localhost:8080/",
     "height": 258
    },
    "executionInfo": {
     "elapsed": 791,
     "status": "ok",
     "timestamp": 1603764498518,
     "user": {
      "displayName": "Rajeev Ratan",
      "photoUrl": "https://lh3.googleusercontent.com/a-/AOh14GhBYJnwdIGYSJdvGmzIt64rYSF1dDuiFyfRw4Rpeg=s64",
      "userId": "08597265227091462140"
     },
     "user_tz": 240
    },
    "id": "rbYG82zvwNK-",
    "outputId": "438d5aec-b0e5-46d4-af4b-3f74935749ce"
   },
   "outputs": [
    {
     "data": {
      "image/png": "[encoded data removed]",
      "text/plain": [
       "<Figure size 432x288 with 1 Axes>"
      ]
     },
     "metadata": {},
     "output_type": "display_data"
    }
   ],
   "source": [
    "dfs = match_data[(match_data['toss_decision']=='field') & (match_data['season']==2016) ]\n",
    "labels=['Bat','Field']\n",
    "slices=[60-len(dfs),len(dfs)]\n",
    "plt.pie(slices,labels=labels,startangle=90,shadow=1,explode=(0.2,0.4),autopct='%1.2f%%',colors=['#ff9999','#66b3ff'])\n",
    "plt.show()"
   ]
  },
  {
   "cell_type": "markdown",
   "metadata": {
    "id": "Qb6FuG2bwNLA"
   },
   "source": [
    "Teams winning toss in 2016 majorly decide to **Field** first."
   ]
  },
  {
   "cell_type": "markdown",
   "metadata": {
    "id": "Y1StRy1uwNLA"
   },
   "source": [
    "## Why do sides choose to field first?"
   ]
  },
  {
   "cell_type": "code",
   "execution_count": 25,
   "metadata": {
    "_kg_hide-input": true,
    "colab": {
     "base_uri": "https://localhost:8080/",
     "height": 248
    },
    "executionInfo": {
     "elapsed": 833,
     "status": "ok",
     "timestamp": 1603764566011,
     "user": {
      "displayName": "Rajeev Ratan",
      "photoUrl": "https://lh3.googleusercontent.com/a-/AOh14GhBYJnwdIGYSJdvGmzIt64rYSF1dDuiFyfRw4Rpeg=s64",
      "userId": "08597265227091462140"
     },
     "user_tz": 240
    },
    "id": "ZWt-JR_DwNLB",
    "outputId": "57721ee4-42c0-46eb-d25e-6b89d092d87f"
   },
   "outputs": [
    {
     "data": {
      "image/png": "[encoded data removed]",
      "text/plain": [
       "<Figure size 432x288 with 1 Axes>"
      ]
     },
     "metadata": {},
     "output_type": "display_data"
    }
   ],
   "source": [
    "dfd = match_2016[(match_2016['toss_decision']=='field') & (match_2016['toss_winner']==match_2016['winner'])]\n",
    "labels=['Fielding First Side Won','Fielding Second Side Won']\n",
    "slices=[len(dfd),60-len(dfd)]\n",
    "plt.pie(slices,labels=labels,startangle=90,shadow=1,explode=(0.2,0.4),autopct='%1.2f%%',colors=['#ff9999','#66b3ff'])\n",
    "plt.show()"
   ]
  },
  {
   "cell_type": "markdown",
   "metadata": {
    "id": "UpBibFMUwNLD"
   },
   "source": [
    "Sides Fielding First Side Won More Matches in 2016"
   ]
  },
  {
   "cell_type": "markdown",
   "metadata": {
    "id": "XYRGadpCwNLD"
   },
   "source": [
    "# Team Comparisons"
   ]
  },
  {
   "cell_type": "code",
   "execution_count": 26,
   "metadata": {
    "colab": {
     "base_uri": "https://localhost:8080/",
     "height": 400
    },
    "executionInfo": {
     "elapsed": 727,
     "status": "ok",
     "timestamp": 1603764707343,
     "user": {
      "displayName": "Rajeev Ratan",
      "photoUrl": "https://lh3.googleusercontent.com/a-/AOh14GhBYJnwdIGYSJdvGmzIt64rYSF1dDuiFyfRw4Rpeg=s64",
      "userId": "08597265227091462140"
     },
     "user_tz": 240
    },
    "id": "zgJqGzDE00m9",
    "outputId": "bea31fa1-eac8-4d43-a9a1-fe61dd0e530d"
   },
   "outputs": [
    {
     "data": {
      "text/html": [
       "<div>\n",
       "<style scoped>\n",
       "    .dataframe tbody tr th:only-of-type {\n",
       "        vertical-align: middle;\n",
       "    }\n",
       "\n",
       "    .dataframe tbody tr th {\n",
       "        vertical-align: top;\n",
       "    }\n",
       "\n",
       "    .dataframe thead th {\n",
       "        text-align: right;\n",
       "    }\n",
       "</style>\n",
       "<table border=\"1\" class=\"dataframe\">\n",
       "  <thead>\n",
       "    <tr style=\"text-align: right;\">\n",
       "      <th></th>\n",
       "      <th>id</th>\n",
       "      <th>season</th>\n",
       "      <th>city</th>\n",
       "      <th>date</th>\n",
       "      <th>team1</th>\n",
       "      <th>team2</th>\n",
       "      <th>toss_winner</th>\n",
       "      <th>toss_decision</th>\n",
       "      <th>result</th>\n",
       "      <th>dl_applied</th>\n",
       "      <th>winner</th>\n",
       "      <th>win_by_runs</th>\n",
       "      <th>win_by_wickets</th>\n",
       "      <th>player_of_match</th>\n",
       "      <th>venue</th>\n",
       "      <th>umpire1</th>\n",
       "      <th>umpire2</th>\n",
       "      <th>umpire3</th>\n",
       "    </tr>\n",
       "  </thead>\n",
       "  <tbody>\n",
       "    <tr>\n",
       "      <th>0</th>\n",
       "      <td>1</td>\n",
       "      <td>2008</td>\n",
       "      <td>Bangalore</td>\n",
       "      <td>2008-04-18</td>\n",
       "      <td>Kolkata Knight Riders</td>\n",
       "      <td>Royal Challengers Bangalore</td>\n",
       "      <td>Royal Challengers Bangalore</td>\n",
       "      <td>field</td>\n",
       "      <td>normal</td>\n",
       "      <td>0</td>\n",
       "      <td>Kolkata Knight Riders</td>\n",
       "      <td>140</td>\n",
       "      <td>0</td>\n",
       "      <td>BB McCullum</td>\n",
       "      <td>M Chinnaswamy Stadium</td>\n",
       "      <td>Asad Rauf</td>\n",
       "      <td>RE Koertzen</td>\n",
       "      <td>NaN</td>\n",
       "    </tr>\n",
       "    <tr>\n",
       "      <th>1</th>\n",
       "      <td>2</td>\n",
       "      <td>2008</td>\n",
       "      <td>Chandigarh</td>\n",
       "      <td>2008-04-19</td>\n",
       "      <td>Chennai Super Kings</td>\n",
       "      <td>Kings XI Punjab</td>\n",
       "      <td>Chennai Super Kings</td>\n",
       "      <td>bat</td>\n",
       "      <td>normal</td>\n",
       "      <td>0</td>\n",
       "      <td>Chennai Super Kings</td>\n",
       "      <td>33</td>\n",
       "      <td>0</td>\n",
       "      <td>MEK Hussey</td>\n",
       "      <td>Punjab Cricket Association Stadium, Mohali</td>\n",
       "      <td>MR Benson</td>\n",
       "      <td>SL Shastri</td>\n",
       "      <td>NaN</td>\n",
       "    </tr>\n",
       "    <tr>\n",
       "      <th>2</th>\n",
       "      <td>3</td>\n",
       "      <td>2008</td>\n",
       "      <td>Delhi</td>\n",
       "      <td>2008-04-19</td>\n",
       "      <td>Rajasthan Royals</td>\n",
       "      <td>Delhi Daredevils</td>\n",
       "      <td>Rajasthan Royals</td>\n",
       "      <td>bat</td>\n",
       "      <td>normal</td>\n",
       "      <td>0</td>\n",
       "      <td>Delhi Daredevils</td>\n",
       "      <td>0</td>\n",
       "      <td>9</td>\n",
       "      <td>MF Maharoof</td>\n",
       "      <td>Feroz Shah Kotla</td>\n",
       "      <td>Aleem Dar</td>\n",
       "      <td>GA Pratapkumar</td>\n",
       "      <td>NaN</td>\n",
       "    </tr>\n",
       "    <tr>\n",
       "      <th>3</th>\n",
       "      <td>4</td>\n",
       "      <td>2008</td>\n",
       "      <td>Mumbai</td>\n",
       "      <td>2008-04-20</td>\n",
       "      <td>Mumbai Indians</td>\n",
       "      <td>Royal Challengers Bangalore</td>\n",
       "      <td>Mumbai Indians</td>\n",
       "      <td>bat</td>\n",
       "      <td>normal</td>\n",
       "      <td>0</td>\n",
       "      <td>Royal Challengers Bangalore</td>\n",
       "      <td>0</td>\n",
       "      <td>5</td>\n",
       "      <td>MV Boucher</td>\n",
       "      <td>Wankhede Stadium</td>\n",
       "      <td>SJ Davis</td>\n",
       "      <td>DJ Harper</td>\n",
       "      <td>NaN</td>\n",
       "    </tr>\n",
       "    <tr>\n",
       "      <th>4</th>\n",
       "      <td>5</td>\n",
       "      <td>2008</td>\n",
       "      <td>Kolkata</td>\n",
       "      <td>2008-04-20</td>\n",
       "      <td>Deccan Chargers</td>\n",
       "      <td>Kolkata Knight Riders</td>\n",
       "      <td>Deccan Chargers</td>\n",
       "      <td>bat</td>\n",
       "      <td>normal</td>\n",
       "      <td>0</td>\n",
       "      <td>Kolkata Knight Riders</td>\n",
       "      <td>0</td>\n",
       "      <td>5</td>\n",
       "      <td>DJ Hussey</td>\n",
       "      <td>Eden Gardens</td>\n",
       "      <td>BF Bowden</td>\n",
       "      <td>K Hariharan</td>\n",
       "      <td>NaN</td>\n",
       "    </tr>\n",
       "  </tbody>\n",
       "</table>\n",
       "</div>"
      ],
      "text/plain": [
       "   id  season        city        date                  team1  \\\n",
       "0   1    2008   Bangalore  2008-04-18  Kolkata Knight Riders   \n",
       "1   2    2008  Chandigarh  2008-04-19    Chennai Super Kings   \n",
       "2   3    2008       Delhi  2008-04-19       Rajasthan Royals   \n",
       "3   4    2008      Mumbai  2008-04-20         Mumbai Indians   \n",
       "4   5    2008     Kolkata  2008-04-20        Deccan Chargers   \n",
       "\n",
       "                         team2                  toss_winner toss_decision  \\\n",
       "0  Royal Challengers Bangalore  Royal Challengers Bangalore         field   \n",
       "1              Kings XI Punjab          Chennai Super Kings           bat   \n",
       "2             Delhi Daredevils             Rajasthan Royals           bat   \n",
       "3  Royal Challengers Bangalore               Mumbai Indians           bat   \n",
       "4        Kolkata Knight Riders              Deccan Chargers           bat   \n",
       "\n",
       "   result  dl_applied                       winner  win_by_runs  \\\n",
       "0  normal           0        Kolkata Knight Riders          140   \n",
       "1  normal           0          Chennai Super Kings           33   \n",
       "2  normal           0             Delhi Daredevils            0   \n",
       "3  normal           0  Royal Challengers Bangalore            0   \n",
       "4  normal           0        Kolkata Knight Riders            0   \n",
       "\n",
       "   win_by_wickets player_of_match                                       venue  \\\n",
       "0               0     BB McCullum                       M Chinnaswamy Stadium   \n",
       "1               0      MEK Hussey  Punjab Cricket Association Stadium, Mohali   \n",
       "2               9     MF Maharoof                            Feroz Shah Kotla   \n",
       "3               5      MV Boucher                            Wankhede Stadium   \n",
       "4               5       DJ Hussey                                Eden Gardens   \n",
       "\n",
       "     umpire1         umpire2  umpire3  \n",
       "0  Asad Rauf     RE Koertzen      NaN  \n",
       "1  MR Benson      SL Shastri      NaN  \n",
       "2  Aleem Dar  GA Pratapkumar      NaN  \n",
       "3   SJ Davis       DJ Harper      NaN  \n",
       "4  BF Bowden     K Hariharan      NaN  "
      ]
     },
     "execution_count": 26,
     "metadata": {},
     "output_type": "execute_result"
    }
   ],
   "source": [
    "match_data.head()"
   ]
  },
  {
   "cell_type": "code",
   "execution_count": 27,
   "metadata": {
    "executionInfo": {
     "elapsed": 879,
     "status": "ok",
     "timestamp": 1603764605378,
     "user": {
      "displayName": "Rajeev Ratan",
      "photoUrl": "https://lh3.googleusercontent.com/a-/AOh14GhBYJnwdIGYSJdvGmzIt64rYSF1dDuiFyfRw4Rpeg=s64",
      "userId": "08597265227091462140"
     },
     "user_tz": 240
    },
    "id": "SHYym6_6wNLE"
   },
   "outputs": [],
   "source": [
    "def comparator(team1):\n",
    "    # you can take team2 here also\n",
    "    teams=list(match_data.team1.unique()) \n",
    "\n",
    "    # Remove team1\n",
    "    teams.remove(team1)\n",
    "\n",
    "    #make a list if all oppenents\n",
    "    opponents=teams.copy()\n",
    "\n",
    "    # Collect data from match data where team one played (they can be in either team1 or team2 columns)\n",
    "    mt1=match_data[((match_data['team1']==team1)|(match_data['team2']==team1))]\n",
    "\n",
    "    for t in opponents:\n",
    "        # each time comparing each opponent team and the team we are looking for\n",
    "        mask = (((mt1['team1']==t)|(mt1['team2']==t)))&((mt1['team1']==team1)|(mt1['team2']==team1))\n",
    "        # to_frame to convert to DataFrame and T is used to Transpose\n",
    "        mt2 = mt1.loc[mask, 'winner'].value_counts().to_frame().T\n",
    "        print(mt2)\n"
   ]
  },
  {
   "cell_type": "code",
   "execution_count": 28,
   "metadata": {
    "colab": {
     "base_uri": "https://localhost:8080/",
     "height": 420
    },
    "executionInfo": {
     "elapsed": 759,
     "status": "ok",
     "timestamp": 1603764760463,
     "user": {
      "displayName": "Rajeev Ratan",
      "photoUrl": "https://lh3.googleusercontent.com/a-/AOh14GhBYJnwdIGYSJdvGmzIt64rYSF1dDuiFyfRw4Rpeg=s64",
      "userId": "08597265227091462140"
     },
     "user_tz": 240
    },
    "id": "IMZnMyTawNLG",
    "outputId": "5b4630b3-efa3-4871-cda9-b7f1e60f260b"
   },
   "outputs": [
    {
     "name": "stdout",
     "output_type": "stream",
     "text": [
      "        Mumbai Indians  Kolkata Knight Riders\n",
      "winner              13                      5\n",
      "        Mumbai Indians  Chennai Super Kings\n",
      "winner              12                   10\n",
      "        Mumbai Indians  Rajasthan Royals\n",
      "winner              10                 6\n",
      "        Mumbai Indians  Deccan Chargers\n",
      "winner               6                4\n",
      "        Kings XI Punjab  Mumbai Indians\n",
      "winner                9               9\n",
      "        Mumbai Indians  Royal Challengers Bangalore\n",
      "winner              11                            8\n",
      "        Mumbai Indians  Delhi Daredevils\n",
      "winner               9                 9\n",
      "        Kochi Tuskers Kerala\n",
      "winner                     1\n",
      "        Mumbai Indians  Pune Warriors\n",
      "winner               5              1\n",
      "        Mumbai Indians  Sunrisers Hyderabad\n",
      "winner               4                    4\n",
      "        Rising Pune Supergiants  Mumbai Indians\n",
      "winner                        1               1\n",
      "        Gujarat Lions\n",
      "winner              2\n"
     ]
    }
   ],
   "source": [
    "comparator('Mumbai Indians')"
   ]
  },
  {
   "cell_type": "code",
   "execution_count": 29,
   "metadata": {
    "colab": {
     "base_uri": "https://localhost:8080/",
     "height": 420
    },
    "executionInfo": {
     "elapsed": 782,
     "status": "ok",
     "timestamp": 1603764764364,
     "user": {
      "displayName": "Rajeev Ratan",
      "photoUrl": "https://lh3.googleusercontent.com/a-/AOh14GhBYJnwdIGYSJdvGmzIt64rYSF1dDuiFyfRw4Rpeg=s64",
      "userId": "08597265227091462140"
     },
     "user_tz": 240
    },
    "id": "fIcplIe7x-Ih",
    "outputId": "ce3c8f08-3188-4c9b-c719-8a984911cabd"
   },
   "outputs": [
    {
     "name": "stdout",
     "output_type": "stream",
     "text": [
      "        Chennai Super Kings  Kolkata Knight Riders\n",
      "winner                   10                      6\n",
      "        Rajasthan Royals  Kolkata Knight Riders\n",
      "winner                 9                      6\n",
      "        Mumbai Indians  Kolkata Knight Riders\n",
      "winner              13                      5\n",
      "        Kolkata Knight Riders  Deccan Chargers\n",
      "winner                      7                2\n",
      "        Kolkata Knight Riders  Kings XI Punjab\n",
      "winner                     13                6\n",
      "        Royal Challengers Bangalore  Kolkata Knight Riders\n",
      "winner                            9                      9\n",
      "        Kolkata Knight Riders  Delhi Daredevils\n",
      "winner                     10                 7\n",
      "        Kochi Tuskers Kerala\n",
      "winner                     2\n",
      "        Kolkata Knight Riders  Pune Warriors\n",
      "winner                      4              1\n",
      "        Kolkata Knight Riders  Sunrisers Hyderabad\n",
      "winner                      6                    3\n",
      "        Kolkata Knight Riders\n",
      "winner                      2\n",
      "        Gujarat Lions\n",
      "winner              2\n"
     ]
    }
   ],
   "source": [
    "comparator(\"Kolkata Knight Riders\")"
   ]
  },
  {
   "cell_type": "code",
   "execution_count": null,
   "metadata": {
    "id": "g9NB-t8a1Dtv"
   },
   "outputs": [],
   "source": []
  }
 ],
 "metadata": {
  "colab": {
   "collapsed_sections": [],
   "name": "IPL Cricket Data Analytics.ipynb",
   "provenance": []
  },
  "kernelspec": {
   "display_name": "Python 3",
   "language": "python",
   "name": "python3"
  },
  "language_info": {
   "codemirror_mode": {
    "name": "ipython",
    "version": 3
   },
   "file_extension": ".py",
   "mimetype": "text/x-python",
   "name": "python",
   "nbconvert_exporter": "python",
   "pygments_lexer": "ipython3",
   "version": "3.7.4"
  }
 },
 "nbformat": 4,
 "nbformat_minor": 1
}
